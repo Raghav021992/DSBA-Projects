{
 "cells": [
  {
   "cell_type": "code",
   "execution_count": 1,
   "id": "6b169579",
   "metadata": {},
   "outputs": [],
   "source": [
    "import pandas as pd\n",
    "import numpy as np\n",
    "import seaborn as sns\n",
    "import matplotlib.pyplot as plt\n",
    "from sklearn.impute import SimpleImputer\n",
    "import os\n",
    "import warnings\n",
    "warnings.filterwarnings(\"ignore\")"
   ]
  },
  {
   "cell_type": "code",
   "execution_count": 2,
   "id": "e34d9e91",
   "metadata": {},
   "outputs": [],
   "source": [
    "godigt = pd.read_excel(r\"C:\\Users\\ragha\\OneDrive\\Desktop\\Great Learning\\GL Practice files\\Statistics\\godigt_cc_data.xlsx\")"
   ]
  },
  {
   "cell_type": "code",
   "execution_count": 3,
   "id": "5a9bea60",
   "metadata": {},
   "outputs": [
    {
     "data": {
      "text/html": [
       "<div>\n",
       "<style scoped>\n",
       "    .dataframe tbody tr th:only-of-type {\n",
       "        vertical-align: middle;\n",
       "    }\n",
       "\n",
       "    .dataframe tbody tr th {\n",
       "        vertical-align: top;\n",
       "    }\n",
       "\n",
       "    .dataframe thead th {\n",
       "        text-align: right;\n",
       "    }\n",
       "</style>\n",
       "<table border=\"1\" class=\"dataframe\">\n",
       "  <thead>\n",
       "    <tr style=\"text-align: right;\">\n",
       "      <th></th>\n",
       "      <th>userid</th>\n",
       "      <th>card_no</th>\n",
       "      <th>card_bin_no</th>\n",
       "      <th>Issuer</th>\n",
       "      <th>card_type</th>\n",
       "      <th>card_source_date</th>\n",
       "      <th>high_networth</th>\n",
       "      <th>active_30</th>\n",
       "      <th>active_60</th>\n",
       "      <th>active_90</th>\n",
       "      <th>...</th>\n",
       "      <th>bank_vintage</th>\n",
       "      <th>T+1_month_activity</th>\n",
       "      <th>T+2_month_activity</th>\n",
       "      <th>T+3_month_activity</th>\n",
       "      <th>T+6_month_activity</th>\n",
       "      <th>T+12_month_activity</th>\n",
       "      <th>Transactor_revolver</th>\n",
       "      <th>avg_spends_l3m</th>\n",
       "      <th>Occupation_at_source</th>\n",
       "      <th>cc_limit</th>\n",
       "    </tr>\n",
       "  </thead>\n",
       "  <tbody>\n",
       "    <tr>\n",
       "      <th>0</th>\n",
       "      <td>1</td>\n",
       "      <td>4384 39XX XXXX XXXX</td>\n",
       "      <td>438439</td>\n",
       "      <td>Visa</td>\n",
       "      <td>edge</td>\n",
       "      <td>2019-09-29</td>\n",
       "      <td>B</td>\n",
       "      <td>0</td>\n",
       "      <td>1</td>\n",
       "      <td>1</td>\n",
       "      <td>...</td>\n",
       "      <td>27</td>\n",
       "      <td>0</td>\n",
       "      <td>0</td>\n",
       "      <td>0</td>\n",
       "      <td>0</td>\n",
       "      <td>0</td>\n",
       "      <td>T</td>\n",
       "      <td>27729</td>\n",
       "      <td>Self Employed</td>\n",
       "      <td>290000</td>\n",
       "    </tr>\n",
       "    <tr>\n",
       "      <th>1</th>\n",
       "      <td>2</td>\n",
       "      <td>4377 48XX XXXX XXXX</td>\n",
       "      <td>437748</td>\n",
       "      <td>Visa</td>\n",
       "      <td>prosperity</td>\n",
       "      <td>2002-10-30</td>\n",
       "      <td>A</td>\n",
       "      <td>1</td>\n",
       "      <td>1</td>\n",
       "      <td>1</td>\n",
       "      <td>...</td>\n",
       "      <td>52</td>\n",
       "      <td>0</td>\n",
       "      <td>0</td>\n",
       "      <td>0</td>\n",
       "      <td>0</td>\n",
       "      <td>0</td>\n",
       "      <td>R</td>\n",
       "      <td>280854</td>\n",
       "      <td>0</td>\n",
       "      <td>950000</td>\n",
       "    </tr>\n",
       "    <tr>\n",
       "      <th>2</th>\n",
       "      <td>3</td>\n",
       "      <td>4377 48XX XXXX XXXX</td>\n",
       "      <td>437748</td>\n",
       "      <td>Visa</td>\n",
       "      <td>rewards</td>\n",
       "      <td>2013-10-05</td>\n",
       "      <td>C</td>\n",
       "      <td>0</td>\n",
       "      <td>0</td>\n",
       "      <td>0</td>\n",
       "      <td>...</td>\n",
       "      <td>23</td>\n",
       "      <td>1</td>\n",
       "      <td>0</td>\n",
       "      <td>0</td>\n",
       "      <td>0</td>\n",
       "      <td>0</td>\n",
       "      <td>R</td>\n",
       "      <td>70587</td>\n",
       "      <td>Student</td>\n",
       "      <td>210000</td>\n",
       "    </tr>\n",
       "    <tr>\n",
       "      <th>3</th>\n",
       "      <td>4</td>\n",
       "      <td>4258 06XX XXXX XXXX</td>\n",
       "      <td>425806</td>\n",
       "      <td>Visa</td>\n",
       "      <td>indianoil</td>\n",
       "      <td>1999-06-01</td>\n",
       "      <td>E</td>\n",
       "      <td>0</td>\n",
       "      <td>1</td>\n",
       "      <td>1</td>\n",
       "      <td>...</td>\n",
       "      <td>49</td>\n",
       "      <td>0</td>\n",
       "      <td>0</td>\n",
       "      <td>1</td>\n",
       "      <td>0</td>\n",
       "      <td>0</td>\n",
       "      <td>T</td>\n",
       "      <td>9156</td>\n",
       "      <td>Self Employed</td>\n",
       "      <td>80000</td>\n",
       "    </tr>\n",
       "    <tr>\n",
       "      <th>4</th>\n",
       "      <td>5</td>\n",
       "      <td>4377 48XX XXXX XXXX</td>\n",
       "      <td>437748</td>\n",
       "      <td>Visa</td>\n",
       "      <td>edge</td>\n",
       "      <td>2006-06-13</td>\n",
       "      <td>B</td>\n",
       "      <td>1</td>\n",
       "      <td>1</td>\n",
       "      <td>1</td>\n",
       "      <td>...</td>\n",
       "      <td>21</td>\n",
       "      <td>1</td>\n",
       "      <td>0</td>\n",
       "      <td>0</td>\n",
       "      <td>0</td>\n",
       "      <td>0</td>\n",
       "      <td>T</td>\n",
       "      <td>38108</td>\n",
       "      <td>Salaried</td>\n",
       "      <td>220000</td>\n",
       "    </tr>\n",
       "  </tbody>\n",
       "</table>\n",
       "<p>5 rows × 28 columns</p>\n",
       "</div>"
      ],
      "text/plain": [
       "   userid              card_no  card_bin_no Issuer   card_type  \\\n",
       "0       1  4384 39XX XXXX XXXX       438439   Visa        edge   \n",
       "1       2  4377 48XX XXXX XXXX       437748   Visa  prosperity   \n",
       "2       3  4377 48XX XXXX XXXX       437748   Visa     rewards   \n",
       "3       4  4258 06XX XXXX XXXX       425806   Visa   indianoil   \n",
       "4       5  4377 48XX XXXX XXXX       437748   Visa        edge   \n",
       "\n",
       "  card_source_date high_networth  active_30  active_60  active_90  ...  \\\n",
       "0       2019-09-29             B          0          1          1  ...   \n",
       "1       2002-10-30             A          1          1          1  ...   \n",
       "2       2013-10-05             C          0          0          0  ...   \n",
       "3       1999-06-01             E          0          1          1  ...   \n",
       "4       2006-06-13             B          1          1          1  ...   \n",
       "\n",
       "   bank_vintage  T+1_month_activity  T+2_month_activity T+3_month_activity  \\\n",
       "0            27                   0                   0                  0   \n",
       "1            52                   0                   0                  0   \n",
       "2            23                   1                   0                  0   \n",
       "3            49                   0                   0                  1   \n",
       "4            21                   1                   0                  0   \n",
       "\n",
       "   T+6_month_activity  T+12_month_activity  Transactor_revolver  \\\n",
       "0                   0                    0                    T   \n",
       "1                   0                    0                    R   \n",
       "2                   0                    0                    R   \n",
       "3                   0                    0                    T   \n",
       "4                   0                    0                    T   \n",
       "\n",
       "  avg_spends_l3m  Occupation_at_source  cc_limit  \n",
       "0          27729         Self Employed    290000  \n",
       "1         280854                     0    950000  \n",
       "2          70587               Student    210000  \n",
       "3           9156         Self Employed     80000  \n",
       "4          38108              Salaried    220000  \n",
       "\n",
       "[5 rows x 28 columns]"
      ]
     },
     "execution_count": 3,
     "metadata": {},
     "output_type": "execute_result"
    }
   ],
   "source": [
    "godigt.head()"
   ]
  },
  {
   "cell_type": "code",
   "execution_count": null,
   "id": "6425d1c6",
   "metadata": {},
   "outputs": [],
   "source": []
  },
  {
   "cell_type": "code",
   "execution_count": 4,
   "id": "bcabba86",
   "metadata": {},
   "outputs": [
    {
     "data": {
      "text/plain": [
       "(8448, 28)"
      ]
     },
     "execution_count": 4,
     "metadata": {},
     "output_type": "execute_result"
    }
   ],
   "source": [
    "godigt.shape"
   ]
  },
  {
   "cell_type": "code",
   "execution_count": null,
   "id": "7d421c76",
   "metadata": {},
   "outputs": [],
   "source": []
  },
  {
   "cell_type": "code",
   "execution_count": 5,
   "id": "4f476b7f",
   "metadata": {},
   "outputs": [
    {
     "name": "stdout",
     "output_type": "stream",
     "text": [
      "<class 'pandas.core.frame.DataFrame'>\n",
      "RangeIndex: 8448 entries, 0 to 8447\n",
      "Data columns (total 28 columns):\n",
      " #   Column                   Non-Null Count  Dtype         \n",
      "---  ------                   --------------  -----         \n",
      " 0   userid                   8448 non-null   int64         \n",
      " 1   card_no                  8448 non-null   object        \n",
      " 2   card_bin_no              8448 non-null   int64         \n",
      " 3   Issuer                   8448 non-null   object        \n",
      " 4   card_type                8448 non-null   object        \n",
      " 5   card_source_date         8448 non-null   datetime64[ns]\n",
      " 6   high_networth            8448 non-null   object        \n",
      " 7   active_30                8448 non-null   int64         \n",
      " 8   active_60                8448 non-null   int64         \n",
      " 9   active_90                8448 non-null   int64         \n",
      " 10  cc_active30              8448 non-null   int64         \n",
      " 11  cc_active60              8448 non-null   int64         \n",
      " 12  cc_active90              8448 non-null   int64         \n",
      " 13  hotlist_flag             8448 non-null   object        \n",
      " 14  widget_products          8448 non-null   int64         \n",
      " 15  engagement_products      8448 non-null   int64         \n",
      " 16  annual_income_at_source  8448 non-null   int64         \n",
      " 17  other_bank_cc_holding    8448 non-null   object        \n",
      " 18  bank_vintage             8448 non-null   int64         \n",
      " 19  T+1_month_activity       8448 non-null   int64         \n",
      " 20  T+2_month_activity       8448 non-null   int64         \n",
      " 21  T+3_month_activity       8448 non-null   int64         \n",
      " 22  T+6_month_activity       8448 non-null   int64         \n",
      " 23  T+12_month_activity      8448 non-null   int64         \n",
      " 24  Transactor_revolver      8410 non-null   object        \n",
      " 25  avg_spends_l3m           8448 non-null   int64         \n",
      " 26  Occupation_at_source     8448 non-null   object        \n",
      " 27  cc_limit                 8448 non-null   int64         \n",
      "dtypes: datetime64[ns](1), int64(19), object(8)\n",
      "memory usage: 1.8+ MB\n"
     ]
    }
   ],
   "source": [
    "godigt.info()"
   ]
  },
  {
   "cell_type": "code",
   "execution_count": null,
   "id": "3a2877bc",
   "metadata": {},
   "outputs": [],
   "source": []
  },
  {
   "cell_type": "code",
   "execution_count": 6,
   "id": "9697fed6",
   "metadata": {},
   "outputs": [
    {
     "data": {
      "text/plain": [
       "0"
      ]
     },
     "execution_count": 6,
     "metadata": {},
     "output_type": "execute_result"
    }
   ],
   "source": [
    "godigt.duplicated().sum()"
   ]
  },
  {
   "cell_type": "code",
   "execution_count": null,
   "id": "54c81d90",
   "metadata": {},
   "outputs": [],
   "source": []
  },
  {
   "cell_type": "code",
   "execution_count": 7,
   "id": "8990e24c",
   "metadata": {},
   "outputs": [
    {
     "data": {
      "text/plain": [
       "Index(['userid', 'card_no', 'card_bin_no', 'Issuer', 'card_type',\n",
       "       'card_source_date', 'high_networth', 'active_30', 'active_60',\n",
       "       'active_90', 'cc_active30', 'cc_active60', 'cc_active90',\n",
       "       'hotlist_flag', 'widget_products', 'engagement_products',\n",
       "       'annual_income_at_source', 'other_bank_cc_holding', 'bank_vintage',\n",
       "       'T+1_month_activity', 'T+2_month_activity', 'T+3_month_activity',\n",
       "       'T+6_month_activity', 'T+12_month_activity', 'Transactor_revolver',\n",
       "       'avg_spends_l3m', 'Occupation_at_source', 'cc_limit'],\n",
       "      dtype='object')"
      ]
     },
     "execution_count": 7,
     "metadata": {},
     "output_type": "execute_result"
    }
   ],
   "source": [
    "godigt.columns"
   ]
  },
  {
   "cell_type": "code",
   "execution_count": null,
   "id": "4cb017c8",
   "metadata": {},
   "outputs": [],
   "source": []
  },
  {
   "cell_type": "code",
   "execution_count": 8,
   "id": "2936d7cf",
   "metadata": {},
   "outputs": [
    {
     "name": "stdout",
     "output_type": "stream",
     "text": [
      "['card_no', 'Issuer', 'card_type', 'high_networth', 'hotlist_flag', 'other_bank_cc_holding', 'Transactor_revolver', 'Occupation_at_source']\n"
     ]
    }
   ],
   "source": [
    "cat = []\n",
    "num = []\n",
    "\n",
    "for i in godigt.columns:\n",
    "    if godigt[i].dtype==\"object\":\n",
    "        cat.append(i)\n",
    "    else:\n",
    "        num.append(i)\n",
    "         \n",
    "print(cat)"
   ]
  },
  {
   "cell_type": "code",
   "execution_count": 9,
   "id": "1180563f",
   "metadata": {},
   "outputs": [
    {
     "name": "stdout",
     "output_type": "stream",
     "text": [
      "['userid', 'card_bin_no', 'card_source_date', 'active_30', 'active_60', 'active_90', 'cc_active30', 'cc_active60', 'cc_active90', 'widget_products', 'engagement_products', 'annual_income_at_source', 'bank_vintage', 'T+1_month_activity', 'T+2_month_activity', 'T+3_month_activity', 'T+6_month_activity', 'T+12_month_activity', 'avg_spends_l3m', 'cc_limit']\n"
     ]
    }
   ],
   "source": [
    "print(num)"
   ]
  },
  {
   "cell_type": "code",
   "execution_count": null,
   "id": "0c9fb7f2",
   "metadata": {},
   "outputs": [],
   "source": []
  },
  {
   "cell_type": "code",
   "execution_count": 10,
   "id": "94026c6a",
   "metadata": {},
   "outputs": [
    {
     "data": {
      "text/plain": [
       "userid                      0\n",
       "card_no                     0\n",
       "card_bin_no                 0\n",
       "Issuer                      0\n",
       "card_type                   0\n",
       "card_source_date            0\n",
       "high_networth               0\n",
       "active_30                   0\n",
       "active_60                   0\n",
       "active_90                   0\n",
       "cc_active30                 0\n",
       "cc_active60                 0\n",
       "cc_active90                 0\n",
       "hotlist_flag                0\n",
       "widget_products             0\n",
       "engagement_products         0\n",
       "annual_income_at_source     0\n",
       "other_bank_cc_holding       0\n",
       "bank_vintage                0\n",
       "T+1_month_activity          0\n",
       "T+2_month_activity          0\n",
       "T+3_month_activity          0\n",
       "T+6_month_activity          0\n",
       "T+12_month_activity         0\n",
       "Transactor_revolver        38\n",
       "avg_spends_l3m              0\n",
       "Occupation_at_source        0\n",
       "cc_limit                    0\n",
       "dtype: int64"
      ]
     },
     "execution_count": 10,
     "metadata": {},
     "output_type": "execute_result"
    }
   ],
   "source": [
    "godigt.isnull().sum()"
   ]
  },
  {
   "cell_type": "code",
   "execution_count": null,
   "id": "4a8216d6",
   "metadata": {},
   "outputs": [],
   "source": []
  },
  {
   "cell_type": "code",
   "execution_count": 11,
   "id": "500083e3",
   "metadata": {},
   "outputs": [],
   "source": [
    "godigt['Transactor_revolver'].fillna(godigt['Transactor_revolver'].mode()[0],inplace =True)"
   ]
  },
  {
   "cell_type": "code",
   "execution_count": 12,
   "id": "29c9a860",
   "metadata": {},
   "outputs": [
    {
     "data": {
      "text/plain": [
       "userid                     0\n",
       "card_no                    0\n",
       "card_bin_no                0\n",
       "Issuer                     0\n",
       "card_type                  0\n",
       "card_source_date           0\n",
       "high_networth              0\n",
       "active_30                  0\n",
       "active_60                  0\n",
       "active_90                  0\n",
       "cc_active30                0\n",
       "cc_active60                0\n",
       "cc_active90                0\n",
       "hotlist_flag               0\n",
       "widget_products            0\n",
       "engagement_products        0\n",
       "annual_income_at_source    0\n",
       "other_bank_cc_holding      0\n",
       "bank_vintage               0\n",
       "T+1_month_activity         0\n",
       "T+2_month_activity         0\n",
       "T+3_month_activity         0\n",
       "T+6_month_activity         0\n",
       "T+12_month_activity        0\n",
       "Transactor_revolver        0\n",
       "avg_spends_l3m             0\n",
       "Occupation_at_source       0\n",
       "cc_limit                   0\n",
       "dtype: int64"
      ]
     },
     "execution_count": 12,
     "metadata": {},
     "output_type": "execute_result"
    }
   ],
   "source": [
    "godigt.isnull().sum()"
   ]
  },
  {
   "cell_type": "code",
   "execution_count": null,
   "id": "03546db1",
   "metadata": {},
   "outputs": [],
   "source": []
  },
  {
   "cell_type": "code",
   "execution_count": 14,
   "id": "42c568b0",
   "metadata": {},
   "outputs": [
    {
     "name": "stdout",
     "output_type": "stream",
     "text": [
      "['annual_income_at_source', 'cc_limit', 'avg_spends_l3m', 'bank_vintage', 'engagement_products', '4262 41XX XXXX XXXX', 'Visa', 'rewards', 'A', 'N']\n"
     ]
    }
   ],
   "source": [
    "numerical_columns = ['active_30', 'active_60', 'active_90', 'cc_active30', 'cc_active60', 'cc_active90', 'widget_products',\n",
    "                     'engagement_products', 'annual_income_at_source', 'bank_vintage', 'T+1_month_activity',\n",
    "                     'T+2_month_activity', 'T+3_month_activity', 'T+6_month_activity', 'T+12_month_activity',\n",
    "                     'avg_spends_l3m', 'cc_limit']\n",
    "categorical_columns = ['card_no', 'Issuer', 'card_type', 'high_networth', 'hotlist_flag', 'other_bank_cc_holding',\n",
    "                       'Transactor_revolver', 'Occupation_at_source']\n",
    "\n",
    "# Convert selected numerical columns to numeric data type\n",
    "godigt[numerical_columns] = godigt[numerical_columns].apply(pd.to_numeric, errors='coerce')\n",
    "\n",
    "# Compute the mean of each numerical column and extract the top 5 numerical variables\n",
    "top_numerical_variables = godigt[numerical_columns].mean().nlargest(5).index.tolist()\n",
    "\n",
    "# Get the most frequent value for each categorical column and extract the top 5 categorical variables\n",
    "top_categorical_variables = [godigt[column].value_counts().idxmax() for column in categorical_columns][:5]\n",
    "\n",
    "# Combine the top numerical and categorical variables\n",
    "top_variables = top_numerical_variables + top_categorical_variables\n",
    "\n",
    "# Print the top 5 variables\n",
    "print(top_variables)\n"
   ]
  },
  {
   "cell_type": "code",
   "execution_count": 24,
   "id": "e39c5f70",
   "metadata": {},
   "outputs": [
    {
     "name": "stdout",
     "output_type": "stream",
     "text": [
      "annual_income_at_source   4262 41XX XXXX XXXX       cc_limit                  Visa                     \n",
      "avg_spends_l3m            rewards                   bank_vintage              A                        \n",
      "engagement_products       N                        \n"
     ]
    }
   ],
   "source": [
    "godigt = {\n",
    "    'Variable': ['annual_income_at_source', 'cc_limit', 'avg_spends_l3m', 'bank_vintage', 'engagement_products'],\n",
    "    'Value': ['4262 41XX XXXX XXXX', 'Visa', 'rewards', 'A', 'N']\n",
    "}\n",
    "\n",
    "godigt_df = pd.DataFrame(godigt)\n",
    "\n",
    "# Display information in two columns\n",
    "for i in range(0, len(godigt_df), 2):\n",
    "    if i+1 < len(godigt_df):\n",
    "        print(f'{godigt_df[\"Variable\"][i]:<25} {godigt_df[\"Value\"][i]:<25} {godigt_df[\"Variable\"][i+1]:<25} {godigt_df[\"Value\"][i+1]:<25}')\n",
    "    else:\n",
    "        print(f'{godigt_df[\"Variable\"][i]:<25} {godigt_df[\"Value\"][i]:<25}')"
   ]
  },
  {
   "cell_type": "code",
   "execution_count": null,
   "id": "2ed07e88",
   "metadata": {},
   "outputs": [],
   "source": []
  }
 ],
 "metadata": {
  "kernelspec": {
   "display_name": "Python 3 (ipykernel)",
   "language": "python",
   "name": "python3"
  },
  "language_info": {
   "codemirror_mode": {
    "name": "ipython",
    "version": 3
   },
   "file_extension": ".py",
   "mimetype": "text/x-python",
   "name": "python",
   "nbconvert_exporter": "python",
   "pygments_lexer": "ipython3",
   "version": "3.10.9"
  }
 },
 "nbformat": 4,
 "nbformat_minor": 5
}
