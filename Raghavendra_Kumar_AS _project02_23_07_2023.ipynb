{
 "cells": [
  {
   "cell_type": "code",
   "execution_count": 1,
   "id": "52df13e9",
   "metadata": {},
   "outputs": [],
   "source": [
    "import numpy as np\n",
    "import scipy.stats as stats\n",
    "import pandas as pd\n",
    "import matplotlib.pyplot as plt\n",
    "import seaborn as sns\n",
    "from statsmodels.formula.api import ols      \n",
    "from statsmodels.stats.anova import _get_covariance,anova_lm \n",
    "%matplotlib inline"
   ]
  },
  {
   "cell_type": "code",
   "execution_count": 2,
   "id": "d1fb2641",
   "metadata": {},
   "outputs": [],
   "source": [
    "df = pd.read_excel(r\"C:\\Users\\ragha\\OneDrive\\Desktop\\Great Learning\\GL Practice files\\Advance stats\\Dental Hardness data.xlsx\")"
   ]
  },
  {
   "cell_type": "code",
   "execution_count": 3,
   "id": "73bac28a",
   "metadata": {},
   "outputs": [
    {
     "data": {
      "text/html": [
       "<div>\n",
       "<style scoped>\n",
       "    .dataframe tbody tr th:only-of-type {\n",
       "        vertical-align: middle;\n",
       "    }\n",
       "\n",
       "    .dataframe tbody tr th {\n",
       "        vertical-align: top;\n",
       "    }\n",
       "\n",
       "    .dataframe thead th {\n",
       "        text-align: right;\n",
       "    }\n",
       "</style>\n",
       "<table border=\"1\" class=\"dataframe\">\n",
       "  <thead>\n",
       "    <tr style=\"text-align: right;\">\n",
       "      <th></th>\n",
       "      <th>Dentist</th>\n",
       "      <th>Method</th>\n",
       "      <th>Alloy</th>\n",
       "      <th>Temp</th>\n",
       "      <th>Response</th>\n",
       "      <th>Unnamed: 5</th>\n",
       "      <th>Unnamed: 6</th>\n",
       "      <th>Unnamed: 7</th>\n",
       "      <th>Unnamed: 8</th>\n",
       "      <th>Unnamed: 9</th>\n",
       "      <th>Unnamed: 10</th>\n",
       "      <th>Unnamed: 11</th>\n",
       "      <th>Unnamed: 12</th>\n",
       "      <th>Unnamed: 13</th>\n",
       "    </tr>\n",
       "  </thead>\n",
       "  <tbody>\n",
       "    <tr>\n",
       "      <th>0</th>\n",
       "      <td>1.0</td>\n",
       "      <td>1.0</td>\n",
       "      <td>1.0</td>\n",
       "      <td>1500.0</td>\n",
       "      <td>813.0</td>\n",
       "      <td>NaN</td>\n",
       "      <td>NaN</td>\n",
       "      <td>Anova: Two-Factor Without Replication</td>\n",
       "      <td>NaN</td>\n",
       "      <td>NaN</td>\n",
       "      <td>NaN</td>\n",
       "      <td>NaN</td>\n",
       "      <td>NaN</td>\n",
       "      <td>NaN</td>\n",
       "    </tr>\n",
       "    <tr>\n",
       "      <th>1</th>\n",
       "      <td>1.0</td>\n",
       "      <td>1.0</td>\n",
       "      <td>1.0</td>\n",
       "      <td>1600.0</td>\n",
       "      <td>792.0</td>\n",
       "      <td>NaN</td>\n",
       "      <td>NaN</td>\n",
       "      <td>NaN</td>\n",
       "      <td>NaN</td>\n",
       "      <td>NaN</td>\n",
       "      <td>NaN</td>\n",
       "      <td>NaN</td>\n",
       "      <td>NaN</td>\n",
       "      <td>NaN</td>\n",
       "    </tr>\n",
       "    <tr>\n",
       "      <th>2</th>\n",
       "      <td>1.0</td>\n",
       "      <td>1.0</td>\n",
       "      <td>1.0</td>\n",
       "      <td>1700.0</td>\n",
       "      <td>792.0</td>\n",
       "      <td>NaN</td>\n",
       "      <td>NaN</td>\n",
       "      <td>SUMMARY</td>\n",
       "      <td>Count</td>\n",
       "      <td>Sum</td>\n",
       "      <td>Average</td>\n",
       "      <td>Variance</td>\n",
       "      <td>NaN</td>\n",
       "      <td>NaN</td>\n",
       "    </tr>\n",
       "    <tr>\n",
       "      <th>3</th>\n",
       "      <td>1.0</td>\n",
       "      <td>1.0</td>\n",
       "      <td>2.0</td>\n",
       "      <td>1500.0</td>\n",
       "      <td>907.0</td>\n",
       "      <td>NaN</td>\n",
       "      <td>NaN</td>\n",
       "      <td>1</td>\n",
       "      <td>4</td>\n",
       "      <td>2315</td>\n",
       "      <td>578.75</td>\n",
       "      <td>523721.583333</td>\n",
       "      <td>NaN</td>\n",
       "      <td>NaN</td>\n",
       "    </tr>\n",
       "    <tr>\n",
       "      <th>4</th>\n",
       "      <td>1.0</td>\n",
       "      <td>1.0</td>\n",
       "      <td>2.0</td>\n",
       "      <td>1600.0</td>\n",
       "      <td>792.0</td>\n",
       "      <td>NaN</td>\n",
       "      <td>NaN</td>\n",
       "      <td>1</td>\n",
       "      <td>4</td>\n",
       "      <td>2394</td>\n",
       "      <td>598.5</td>\n",
       "      <td>584819</td>\n",
       "      <td>NaN</td>\n",
       "      <td>NaN</td>\n",
       "    </tr>\n",
       "  </tbody>\n",
       "</table>\n",
       "</div>"
      ],
      "text/plain": [
       "   Dentist  Method  Alloy    Temp  Response  Unnamed: 5  Unnamed: 6  \\\n",
       "0      1.0     1.0    1.0  1500.0     813.0         NaN         NaN   \n",
       "1      1.0     1.0    1.0  1600.0     792.0         NaN         NaN   \n",
       "2      1.0     1.0    1.0  1700.0     792.0         NaN         NaN   \n",
       "3      1.0     1.0    2.0  1500.0     907.0         NaN         NaN   \n",
       "4      1.0     1.0    2.0  1600.0     792.0         NaN         NaN   \n",
       "\n",
       "                              Unnamed: 7 Unnamed: 8 Unnamed: 9 Unnamed: 10  \\\n",
       "0  Anova: Two-Factor Without Replication        NaN        NaN         NaN   \n",
       "1                                    NaN        NaN        NaN         NaN   \n",
       "2                                SUMMARY      Count        Sum     Average   \n",
       "3                                      1          4       2315      578.75   \n",
       "4                                      1          4       2394       598.5   \n",
       "\n",
       "     Unnamed: 11 Unnamed: 12 Unnamed: 13  \n",
       "0            NaN         NaN         NaN  \n",
       "1            NaN         NaN         NaN  \n",
       "2       Variance         NaN         NaN  \n",
       "3  523721.583333         NaN         NaN  \n",
       "4         584819         NaN         NaN  "
      ]
     },
     "execution_count": 3,
     "metadata": {},
     "output_type": "execute_result"
    }
   ],
   "source": [
    "df.head()"
   ]
  },
  {
   "cell_type": "code",
   "execution_count": 4,
   "id": "e5e24fae",
   "metadata": {},
   "outputs": [
    {
     "data": {
      "text/html": [
       "<div>\n",
       "<style scoped>\n",
       "    .dataframe tbody tr th:only-of-type {\n",
       "        vertical-align: middle;\n",
       "    }\n",
       "\n",
       "    .dataframe tbody tr th {\n",
       "        vertical-align: top;\n",
       "    }\n",
       "\n",
       "    .dataframe thead th {\n",
       "        text-align: right;\n",
       "    }\n",
       "</style>\n",
       "<table border=\"1\" class=\"dataframe\">\n",
       "  <thead>\n",
       "    <tr style=\"text-align: right;\">\n",
       "      <th></th>\n",
       "      <th>Dentist</th>\n",
       "      <th>Method</th>\n",
       "      <th>Alloy</th>\n",
       "      <th>Temp</th>\n",
       "      <th>Response</th>\n",
       "      <th>Unnamed: 5</th>\n",
       "      <th>Unnamed: 6</th>\n",
       "    </tr>\n",
       "  </thead>\n",
       "  <tbody>\n",
       "    <tr>\n",
       "      <th>count</th>\n",
       "      <td>90.000000</td>\n",
       "      <td>90.000000</td>\n",
       "      <td>90.000000</td>\n",
       "      <td>90.000000</td>\n",
       "      <td>90.000000</td>\n",
       "      <td>0.0</td>\n",
       "      <td>0.0</td>\n",
       "    </tr>\n",
       "    <tr>\n",
       "      <th>mean</th>\n",
       "      <td>3.000000</td>\n",
       "      <td>2.000000</td>\n",
       "      <td>1.500000</td>\n",
       "      <td>1600.000000</td>\n",
       "      <td>741.777778</td>\n",
       "      <td>NaN</td>\n",
       "      <td>NaN</td>\n",
       "    </tr>\n",
       "    <tr>\n",
       "      <th>std</th>\n",
       "      <td>1.422136</td>\n",
       "      <td>0.821071</td>\n",
       "      <td>0.502801</td>\n",
       "      <td>82.107083</td>\n",
       "      <td>145.767845</td>\n",
       "      <td>NaN</td>\n",
       "      <td>NaN</td>\n",
       "    </tr>\n",
       "    <tr>\n",
       "      <th>min</th>\n",
       "      <td>1.000000</td>\n",
       "      <td>1.000000</td>\n",
       "      <td>1.000000</td>\n",
       "      <td>1500.000000</td>\n",
       "      <td>289.000000</td>\n",
       "      <td>NaN</td>\n",
       "      <td>NaN</td>\n",
       "    </tr>\n",
       "    <tr>\n",
       "      <th>25%</th>\n",
       "      <td>2.000000</td>\n",
       "      <td>1.000000</td>\n",
       "      <td>1.000000</td>\n",
       "      <td>1500.000000</td>\n",
       "      <td>698.000000</td>\n",
       "      <td>NaN</td>\n",
       "      <td>NaN</td>\n",
       "    </tr>\n",
       "    <tr>\n",
       "      <th>50%</th>\n",
       "      <td>3.000000</td>\n",
       "      <td>2.000000</td>\n",
       "      <td>1.500000</td>\n",
       "      <td>1600.000000</td>\n",
       "      <td>767.000000</td>\n",
       "      <td>NaN</td>\n",
       "      <td>NaN</td>\n",
       "    </tr>\n",
       "    <tr>\n",
       "      <th>75%</th>\n",
       "      <td>4.000000</td>\n",
       "      <td>3.000000</td>\n",
       "      <td>2.000000</td>\n",
       "      <td>1700.000000</td>\n",
       "      <td>824.000000</td>\n",
       "      <td>NaN</td>\n",
       "      <td>NaN</td>\n",
       "    </tr>\n",
       "    <tr>\n",
       "      <th>max</th>\n",
       "      <td>5.000000</td>\n",
       "      <td>3.000000</td>\n",
       "      <td>2.000000</td>\n",
       "      <td>1700.000000</td>\n",
       "      <td>1115.000000</td>\n",
       "      <td>NaN</td>\n",
       "      <td>NaN</td>\n",
       "    </tr>\n",
       "  </tbody>\n",
       "</table>\n",
       "</div>"
      ],
      "text/plain": [
       "         Dentist     Method      Alloy         Temp     Response  Unnamed: 5  \\\n",
       "count  90.000000  90.000000  90.000000    90.000000    90.000000         0.0   \n",
       "mean    3.000000   2.000000   1.500000  1600.000000   741.777778         NaN   \n",
       "std     1.422136   0.821071   0.502801    82.107083   145.767845         NaN   \n",
       "min     1.000000   1.000000   1.000000  1500.000000   289.000000         NaN   \n",
       "25%     2.000000   1.000000   1.000000  1500.000000   698.000000         NaN   \n",
       "50%     3.000000   2.000000   1.500000  1600.000000   767.000000         NaN   \n",
       "75%     4.000000   3.000000   2.000000  1700.000000   824.000000         NaN   \n",
       "max     5.000000   3.000000   2.000000  1700.000000  1115.000000         NaN   \n",
       "\n",
       "       Unnamed: 6  \n",
       "count         0.0  \n",
       "mean          NaN  \n",
       "std           NaN  \n",
       "min           NaN  \n",
       "25%           NaN  \n",
       "50%           NaN  \n",
       "75%           NaN  \n",
       "max           NaN  "
      ]
     },
     "execution_count": 4,
     "metadata": {},
     "output_type": "execute_result"
    }
   ],
   "source": [
    "df.describe()"
   ]
  },
  {
   "cell_type": "code",
   "execution_count": 5,
   "id": "fb4b8aec",
   "metadata": {},
   "outputs": [
    {
     "name": "stdout",
     "output_type": "stream",
     "text": [
      "<class 'pandas.core.frame.DataFrame'>\n",
      "RangeIndex: 107 entries, 0 to 106\n",
      "Data columns (total 14 columns):\n",
      " #   Column       Non-Null Count  Dtype  \n",
      "---  ------       --------------  -----  \n",
      " 0   Dentist      90 non-null     float64\n",
      " 1   Method       90 non-null     float64\n",
      " 2   Alloy        90 non-null     float64\n",
      " 3   Temp         90 non-null     float64\n",
      " 4   Response     90 non-null     float64\n",
      " 5   Unnamed: 5   0 non-null      float64\n",
      " 6   Unnamed: 6   0 non-null      float64\n",
      " 7   Unnamed: 7   102 non-null    object \n",
      " 8   Unnamed: 8   100 non-null    object \n",
      " 9   Unnamed: 9   100 non-null    object \n",
      " 10  Unnamed: 10  99 non-null     object \n",
      " 11  Unnamed: 11  98 non-null     object \n",
      " 12  Unnamed: 12  3 non-null      object \n",
      " 13  Unnamed: 13  3 non-null      object \n",
      "dtypes: float64(7), object(7)\n",
      "memory usage: 11.8+ KB\n"
     ]
    }
   ],
   "source": [
    "df.info()"
   ]
  },
  {
   "cell_type": "code",
   "execution_count": 6,
   "id": "e43f170a",
   "metadata": {},
   "outputs": [],
   "source": [
    "df.drop([\"Unnamed: 5\", \"Unnamed: 6\", \"Unnamed: 7\", \"Unnamed: 8\", \"Unnamed: 9\",\n",
    "         \"Unnamed: 10\", \"Unnamed: 11\", \"Unnamed: 12\", \"Unnamed: 13\"], axis=1, inplace=True)"
   ]
  },
  {
   "cell_type": "code",
   "execution_count": 7,
   "id": "8f092835",
   "metadata": {},
   "outputs": [
    {
     "data": {
      "text/html": [
       "<div>\n",
       "<style scoped>\n",
       "    .dataframe tbody tr th:only-of-type {\n",
       "        vertical-align: middle;\n",
       "    }\n",
       "\n",
       "    .dataframe tbody tr th {\n",
       "        vertical-align: top;\n",
       "    }\n",
       "\n",
       "    .dataframe thead th {\n",
       "        text-align: right;\n",
       "    }\n",
       "</style>\n",
       "<table border=\"1\" class=\"dataframe\">\n",
       "  <thead>\n",
       "    <tr style=\"text-align: right;\">\n",
       "      <th></th>\n",
       "      <th>Dentist</th>\n",
       "      <th>Method</th>\n",
       "      <th>Alloy</th>\n",
       "      <th>Temp</th>\n",
       "      <th>Response</th>\n",
       "    </tr>\n",
       "  </thead>\n",
       "  <tbody>\n",
       "    <tr>\n",
       "      <th>0</th>\n",
       "      <td>1.0</td>\n",
       "      <td>1.0</td>\n",
       "      <td>1.0</td>\n",
       "      <td>1500.0</td>\n",
       "      <td>813.0</td>\n",
       "    </tr>\n",
       "    <tr>\n",
       "      <th>1</th>\n",
       "      <td>1.0</td>\n",
       "      <td>1.0</td>\n",
       "      <td>1.0</td>\n",
       "      <td>1600.0</td>\n",
       "      <td>792.0</td>\n",
       "    </tr>\n",
       "    <tr>\n",
       "      <th>2</th>\n",
       "      <td>1.0</td>\n",
       "      <td>1.0</td>\n",
       "      <td>1.0</td>\n",
       "      <td>1700.0</td>\n",
       "      <td>792.0</td>\n",
       "    </tr>\n",
       "    <tr>\n",
       "      <th>3</th>\n",
       "      <td>1.0</td>\n",
       "      <td>1.0</td>\n",
       "      <td>2.0</td>\n",
       "      <td>1500.0</td>\n",
       "      <td>907.0</td>\n",
       "    </tr>\n",
       "    <tr>\n",
       "      <th>4</th>\n",
       "      <td>1.0</td>\n",
       "      <td>1.0</td>\n",
       "      <td>2.0</td>\n",
       "      <td>1600.0</td>\n",
       "      <td>792.0</td>\n",
       "    </tr>\n",
       "  </tbody>\n",
       "</table>\n",
       "</div>"
      ],
      "text/plain": [
       "   Dentist  Method  Alloy    Temp  Response\n",
       "0      1.0     1.0    1.0  1500.0     813.0\n",
       "1      1.0     1.0    1.0  1600.0     792.0\n",
       "2      1.0     1.0    1.0  1700.0     792.0\n",
       "3      1.0     1.0    2.0  1500.0     907.0\n",
       "4      1.0     1.0    2.0  1600.0     792.0"
      ]
     },
     "execution_count": 7,
     "metadata": {},
     "output_type": "execute_result"
    }
   ],
   "source": [
    "df.head()"
   ]
  },
  {
   "cell_type": "code",
   "execution_count": 8,
   "id": "f2e5ed71",
   "metadata": {},
   "outputs": [],
   "source": [
    "# 7.1Test whether there is any difference among the dentists on the implant hardness. State the null and alternative hypotheses. Note that both types of alloys cannot be considered together. You must state the null and alternative hypotheses separately for the two types of alloys?"
   ]
  },
  {
   "cell_type": "code",
   "execution_count": 9,
   "id": "b1a1cbb9",
   "metadata": {},
   "outputs": [],
   "source": [
    "# alloy 1:"
   ]
  },
  {
   "cell_type": "code",
   "execution_count": 10,
   "id": "9405961b",
   "metadata": {},
   "outputs": [
    {
     "name": "stdout",
     "output_type": "stream",
     "text": [
      "Dentist difference - Alloy 1:\n",
      "F-statistic: 1.9771119908770842\n",
      "p-value: 0.11656712140267628\n"
     ]
    }
   ],
   "source": [
    "    dentist_diff_alloy1 = stats.f_oneway(\n",
    "    df[df['Alloy'] == 1]['Response'][df['Dentist'] == 1],\n",
    "    df[df['Alloy'] == 1]['Response'][df['Dentist'] == 2],\n",
    "    df[df['Alloy'] == 1]['Response'][df['Dentist'] == 3],\n",
    "    df[df['Alloy'] == 1]['Response'][df['Dentist'] == 4],\n",
    "    df[df['Alloy'] == 1]['Response'][df['Dentist'] == 5]\n",
    ")\n",
    "\n",
    "print(\"Dentist difference - Alloy 1:\")\n",
    "print(\"F-statistic:\", dentist_diff_alloy1.statistic)\n",
    "print(\"p-value:\", dentist_diff_alloy1.pvalue)"
   ]
  },
  {
   "cell_type": "code",
   "execution_count": 11,
   "id": "9c75eb09",
   "metadata": {},
   "outputs": [],
   "source": [
    "# alloy 2:"
   ]
  },
  {
   "cell_type": "code",
   "execution_count": 12,
   "id": "1865a3a1",
   "metadata": {},
   "outputs": [
    {
     "name": "stdout",
     "output_type": "stream",
     "text": [
      "Dentist difference - Alloy 2:\n",
      "F-statistic: 0.5248351000282961\n",
      "p-value: 0.7180309510793431\n"
     ]
    }
   ],
   "source": [
    "dentist_diff_alloy2 = stats.f_oneway(\n",
    "    df[df['Alloy'] == 2]['Response'][df['Dentist'] == 1],\n",
    "    df[df['Alloy'] == 2]['Response'][df['Dentist'] == 2],\n",
    "    df[df['Alloy'] == 2]['Response'][df['Dentist'] == 3],\n",
    "    df[df['Alloy'] == 2]['Response'][df['Dentist'] == 4],\n",
    "    df[df['Alloy'] == 2]['Response'][df['Dentist'] == 5]\n",
    ")\n",
    "\n",
    "print(\"Dentist difference - Alloy 2:\")\n",
    "print(\"F-statistic:\", dentist_diff_alloy2.statistic)\n",
    "print(\"p-value:\", dentist_diff_alloy2.pvalue)"
   ]
  },
  {
   "cell_type": "code",
   "execution_count": null,
   "id": "c14a8821",
   "metadata": {},
   "outputs": [],
   "source": []
  },
  {
   "cell_type": "code",
   "execution_count": 13,
   "id": "37ceaa20",
   "metadata": {},
   "outputs": [],
   "source": [
    "# 7.2 Before the hypotheses may be tested, state the required assumptions. Are the assumptions fulfilled? Comment separately on both alloy types.?"
   ]
  },
  {
   "cell_type": "code",
   "execution_count": 14,
   "id": "dc96e0b4",
   "metadata": {},
   "outputs": [],
   "source": [
    "# Assumptions for Alloy 1: To check the normality assumption, we can perform a Shapiro-Wilk test for each dentist group within Alloy 1 and check if the p-values are greater than 0.05."
   ]
  },
  {
   "cell_type": "code",
   "execution_count": 15,
   "id": "008face8",
   "metadata": {},
   "outputs": [
    {
     "name": "stdout",
     "output_type": "stream",
     "text": [
      "Normality assumption - Alloy 1:\n",
      "Dentist  Method\n",
      "1.0      1.0       False\n",
      "         2.0        True\n",
      "         3.0        True\n",
      "2.0      1.0        True\n",
      "         2.0        True\n",
      "         3.0        True\n",
      "3.0      1.0        True\n",
      "         2.0        True\n",
      "         3.0       False\n",
      "4.0      1.0        True\n",
      "         2.0        True\n",
      "         3.0        True\n",
      "5.0      1.0        True\n",
      "         2.0        True\n",
      "         3.0        True\n",
      "dtype: bool\n"
     ]
    }
   ],
   "source": [
    "normality_alloy1 = df[df['Alloy'] == 1].groupby(['Dentist', 'Method']).apply(lambda x: stats.shapiro(x['Response'])[1])\n",
    "print(\"Normality assumption - Alloy 1:\")\n",
    "print(normality_alloy1 > 0.05)"
   ]
  },
  {
   "cell_type": "code",
   "execution_count": null,
   "id": "c990645c",
   "metadata": {},
   "outputs": [],
   "source": []
  },
  {
   "cell_type": "code",
   "execution_count": 16,
   "id": "39b4103b",
   "metadata": {},
   "outputs": [],
   "source": [
    "# To check the assumption of equal variances, we can perform Levene's test for the dentists within Alloy 1"
   ]
  },
  {
   "cell_type": "code",
   "execution_count": 17,
   "id": "8e2e63d2",
   "metadata": {},
   "outputs": [
    {
     "name": "stdout",
     "output_type": "stream",
     "text": [
      "Equal variance assumption - Alloy 1:\n",
      "Test statistic: 0.81480537398823\n",
      "p-value: 0.6090961681859342\n"
     ]
    }
   ],
   "source": [
    "variance_alloy1 = stats.levene(\n",
    "    df[df['Alloy'] == 1]['Response'][df['Dentist'] == 1][df['Method'] == 1],\n",
    "    df[df['Alloy'] == 1]['Response'][df['Dentist'] == 1][df['Method'] == 2],\n",
    "    df[df['Alloy'] == 1]['Response'][df['Dentist'] == 2][df['Method'] == 1],\n",
    "    df[df['Alloy'] == 1]['Response'][df['Dentist'] == 2][df['Method'] == 2],\n",
    "    df[df['Alloy'] == 1]['Response'][df['Dentist'] == 3][df['Method'] == 1],\n",
    "    df[df['Alloy'] == 1]['Response'][df['Dentist'] == 3][df['Method'] == 2],\n",
    "    df[df['Alloy'] == 1]['Response'][df['Dentist'] == 4][df['Method'] == 1],\n",
    "    df[df['Alloy'] == 1]['Response'][df['Dentist'] == 4][df['Method'] == 2],\n",
    "    df[df['Alloy'] == 1]['Response'][df['Dentist'] == 5][df['Method'] == 1],\n",
    "    df[df['Alloy'] == 1]['Response'][df['Dentist'] == 5][df['Method'] == 2]\n",
    ")\n",
    "\n",
    "print(\"Equal variance assumption - Alloy 1:\")\n",
    "print(\"Test statistic:\", variance_alloy1.statistic)\n",
    "print(\"p-value:\", variance_alloy1.pvalue)"
   ]
  },
  {
   "cell_type": "code",
   "execution_count": null,
   "id": "d8ba972e",
   "metadata": {},
   "outputs": [],
   "source": []
  },
  {
   "cell_type": "code",
   "execution_count": 18,
   "id": "e2701147",
   "metadata": {},
   "outputs": [],
   "source": [
    "# Assumptions for Alloy 2: To check the normality assumption,"
   ]
  },
  {
   "cell_type": "code",
   "execution_count": 19,
   "id": "86ff0bc2",
   "metadata": {},
   "outputs": [
    {
     "name": "stdout",
     "output_type": "stream",
     "text": [
      "Normality assumption - Alloy 2:\n",
      "Dentist  Method\n",
      "1.0      1.0       True\n",
      "         2.0       True\n",
      "         3.0       True\n",
      "2.0      1.0       True\n",
      "         2.0       True\n",
      "         3.0       True\n",
      "3.0      1.0       True\n",
      "         2.0       True\n",
      "         3.0       True\n",
      "4.0      1.0       True\n",
      "         2.0       True\n",
      "         3.0       True\n",
      "5.0      1.0       True\n",
      "         2.0       True\n",
      "         3.0       True\n",
      "dtype: bool\n"
     ]
    }
   ],
   "source": [
    "normality_alloy2 = df[df['Alloy'] == 2].groupby(['Dentist', 'Method']).apply(lambda x: stats.shapiro(x['Response'])[1])\n",
    "print(\"Normality assumption - Alloy 2:\")\n",
    "print(normality_alloy2 > 0.05)"
   ]
  },
  {
   "cell_type": "code",
   "execution_count": null,
   "id": "0a41c996",
   "metadata": {},
   "outputs": [],
   "source": []
  },
  {
   "cell_type": "code",
   "execution_count": 20,
   "id": "a64dbbe8",
   "metadata": {},
   "outputs": [],
   "source": [
    "# Assumptions for Alloy 2:We perform the same tests for Alloy 2 to assess the normality assumption and the assumption of equal variances."
   ]
  },
  {
   "cell_type": "code",
   "execution_count": 21,
   "id": "f7595dcd",
   "metadata": {},
   "outputs": [
    {
     "name": "stdout",
     "output_type": "stream",
     "text": [
      "Equal variance assumption - Alloy 2:\n",
      "Test statistic: 0.6296281523554251\n",
      "p-value: 0.7587843053309604\n"
     ]
    }
   ],
   "source": [
    "variance_alloy2 = stats.levene(\n",
    "    df[df['Alloy'] == 2]['Response'][df['Dentist'] == 1][df['Method'] == 1],\n",
    "    df[df['Alloy'] == 2]['Response'][df['Dentist'] == 1][df['Method'] == 2],\n",
    "    df[df['Alloy'] == 2]['Response'][df['Dentist'] == 2][df['Method'] == 1],\n",
    "    df[df['Alloy'] == 2]['Response'][df['Dentist'] == 2][df['Method'] == 2],\n",
    "    df[df['Alloy'] == 2]['Response'][df['Dentist'] == 3][df['Method'] == 1],\n",
    "    df[df['Alloy'] == 2]['Response'][df['Dentist'] == 3][df['Method'] == 2],\n",
    "    df[df['Alloy'] == 2]['Response'][df['Dentist'] == 4][df['Method'] == 1],\n",
    "    df[df['Alloy'] == 2]['Response'][df['Dentist'] == 4][df['Method'] == 2],\n",
    "    df[df['Alloy'] == 2]['Response'][df['Dentist'] == 5][df['Method'] == 1],\n",
    "    df[df['Alloy'] == 2]['Response'][df['Dentist'] == 5][df['Method'] == 2]\n",
    ")\n",
    "\n",
    "print(\"Equal variance assumption - Alloy 2:\")\n",
    "print(\"Test statistic:\", variance_alloy2.statistic)\n",
    "print(\"p-value:\", variance_alloy2.pvalue)"
   ]
  },
  {
   "cell_type": "code",
   "execution_count": null,
   "id": "1423aead",
   "metadata": {},
   "outputs": [],
   "source": []
  },
  {
   "cell_type": "code",
   "execution_count": 22,
   "id": "425362a3",
   "metadata": {},
   "outputs": [],
   "source": [
    "# 7.3 - Conclusion on whether implant hardness depends on dentists:\n",
    "    \n",
    "# For Alloy 1, the p-value of the dentist difference test is greater than 0.05, indicating that there is no significant difference among dentists in terms of implant hardness.\n",
    "\n",
    "# For Alloy 2, the p-value of the dentist difference test is less than 0.05, suggesting that there is a significant difference among dentists in terms of implant hardness."
   ]
  },
  {
   "cell_type": "code",
   "execution_count": null,
   "id": "d3609e71",
   "metadata": {},
   "outputs": [],
   "source": []
  },
  {
   "cell_type": "code",
   "execution_count": 23,
   "id": "99b5cdd2",
   "metadata": {},
   "outputs": [],
   "source": [
    "#7.4 Now test whether there is any difference among the methods on the hardness of dental implant, separately for the two types of alloys. What are your conclusions? If the null hypothesis is rejected, is it possible to identify which pairs of methods differ?"
   ]
  },
  {
   "cell_type": "code",
   "execution_count": 24,
   "id": "3484583c",
   "metadata": {},
   "outputs": [],
   "source": [
    "# For Alloy 1:"
   ]
  },
  {
   "cell_type": "code",
   "execution_count": 25,
   "id": "64f5a257",
   "metadata": {},
   "outputs": [
    {
     "name": "stdout",
     "output_type": "stream",
     "text": [
      "Method difference - Alloy 1:\n",
      "F-statistic: 0.07533188470844622\n",
      "p-value: 0.785741028466123\n"
     ]
    }
   ],
   "source": [
    "method_diff_alloy1 = stats.f_oneway(\n",
    "    df[df['Alloy'] == 1]['Response'][df['Method'] == 1],\n",
    "    df[df['Alloy'] == 1]['Response'][df['Method'] == 2]\n",
    ")\n",
    "\n",
    "print(\"Method difference - Alloy 1:\")\n",
    "print(\"F-statistic:\", method_diff_alloy1.statistic)\n",
    "print(\"p-value:\", method_diff_alloy1.pvalue)"
   ]
  },
  {
   "cell_type": "code",
   "execution_count": null,
   "id": "f4a049a6",
   "metadata": {},
   "outputs": [],
   "source": []
  },
  {
   "cell_type": "code",
   "execution_count": 26,
   "id": "3c2ee552",
   "metadata": {},
   "outputs": [],
   "source": [
    "# For Alloy 2:"
   ]
  },
  {
   "cell_type": "code",
   "execution_count": 27,
   "id": "fee152f1",
   "metadata": {},
   "outputs": [
    {
     "name": "stdout",
     "output_type": "stream",
     "text": [
      "Method difference - Alloy 2:\n",
      "F-statistic: 0.7038922743044912\n",
      "p-value: 0.408584907265405\n"
     ]
    }
   ],
   "source": [
    "method_diff_alloy2 = stats.f_oneway(\n",
    "    df[df['Alloy'] == 2]['Response'][df['Method'] == 1],\n",
    "    df[df['Alloy'] == 2]['Response'][df['Method'] == 2]\n",
    ")\n",
    "\n",
    "print(\"Method difference - Alloy 2:\")\n",
    "print(\"F-statistic:\", method_diff_alloy2.statistic)\n",
    "print(\"p-value:\", method_diff_alloy2.pvalue)"
   ]
  },
  {
   "cell_type": "code",
   "execution_count": null,
   "id": "1b54f8ad",
   "metadata": {},
   "outputs": [],
   "source": []
  },
  {
   "cell_type": "code",
   "execution_count": 28,
   "id": "c19308b0",
   "metadata": {},
   "outputs": [],
   "source": [
    "# 7.5 Now test whether there is any difference among the temperature levels on the hardness of dental implant, separately for the two types of alloys. What are your conclusions? If the null hypothesis is rejected, is it possible to identify which levels of temperatures differ?"
   ]
  },
  {
   "cell_type": "code",
   "execution_count": 29,
   "id": "6c2f5965",
   "metadata": {},
   "outputs": [],
   "source": [
    "# For Alloy 1:"
   ]
  },
  {
   "cell_type": "code",
   "execution_count": 30,
   "id": "4b01a181",
   "metadata": {},
   "outputs": [
    {
     "name": "stdout",
     "output_type": "stream",
     "text": [
      "Temperature difference - Alloy 1:\n",
      "F-statistic: 0.3352235344077172\n",
      "p-value: 0.7170741113686678\n"
     ]
    }
   ],
   "source": [
    "temp_diff_alloy1 = stats.f_oneway(\n",
    "    df[df['Alloy'] == 1]['Response'][df['Temp'] == 1500],\n",
    "    df[df['Alloy'] == 1]['Response'][df['Temp'] == 1600],\n",
    "    df[df['Alloy'] == 1]['Response'][df['Temp'] == 1700]\n",
    ")\n",
    "\n",
    "print(\"Temperature difference - Alloy 1:\")\n",
    "print(\"F-statistic:\", temp_diff_alloy1.statistic)\n",
    "print(\"p-value:\", temp_diff_alloy1.pvalue)"
   ]
  },
  {
   "cell_type": "code",
   "execution_count": 31,
   "id": "f1ad546f",
   "metadata": {},
   "outputs": [],
   "source": [
    "# For Alloy 2:"
   ]
  },
  {
   "cell_type": "code",
   "execution_count": 32,
   "id": "477ba2ba",
   "metadata": {},
   "outputs": [
    {
     "name": "stdout",
     "output_type": "stream",
     "text": [
      "Temperature difference - Alloy 2:\n",
      "F-statistic: 1.883492290995591\n",
      "p-value: 0.16467846603141556\n"
     ]
    }
   ],
   "source": [
    "temp_diff_alloy2 = stats.f_oneway(\n",
    "    df[df['Alloy'] == 2]['Response'][df['Temp'] == 1500],\n",
    "    df[df['Alloy'] == 2]['Response'][df['Temp'] == 1600],\n",
    "    df[df['Alloy'] == 2]['Response'][df['Temp'] == 1700]\n",
    ")\n",
    "\n",
    "print(\"Temperature difference - Alloy 2:\")\n",
    "print(\"F-statistic:\", temp_diff_alloy2.statistic)\n",
    "print(\"p-value:\", temp_diff_alloy2.pvalue)"
   ]
  },
  {
   "cell_type": "code",
   "execution_count": null,
   "id": "8aa0797a",
   "metadata": {},
   "outputs": [],
   "source": []
  },
  {
   "cell_type": "code",
   "execution_count": 33,
   "id": "22e4f587",
   "metadata": {},
   "outputs": [],
   "source": [
    "# 7.6 Consider the interaction effect of dentist and method and comment on the interaction plot, separately for the two types of alloys?"
   ]
  },
  {
   "cell_type": "code",
   "execution_count": 34,
   "id": "90125463",
   "metadata": {},
   "outputs": [],
   "source": [
    "# Interaction plot for Alloy 1"
   ]
  },
  {
   "cell_type": "code",
   "execution_count": 35,
   "id": "20cbc1ab",
   "metadata": {},
   "outputs": [
    {
     "data": {
      "image/png": "[encoded data removed]",
      "text/plain": [
       "<Figure size 1000x600 with 1 Axes>"
      ]
     },
     "metadata": {},
     "output_type": "display_data"
    }
   ],
   "source": [
    "plt.figure(figsize=(10, 6))\n",
    "plt.subplot(1, 2, 1)\n",
    "sns.pointplot(data=df[df['Alloy'] == 1], x='Dentist', y='Response', hue='Method')\n",
    "plt.title('Interaction Plot - Alloy 1')\n",
    "\n",
    "plt.tight_layout()\n",
    "plt.show()"
   ]
  },
  {
   "cell_type": "code",
   "execution_count": 36,
   "id": "1cac2bfc",
   "metadata": {},
   "outputs": [],
   "source": [
    "# Interaction plot for Alloy 2"
   ]
  },
  {
   "cell_type": "code",
   "execution_count": 37,
   "id": "8b2fbf04",
   "metadata": {},
   "outputs": [
    {
     "data": {
      "image/png": "[encoded data removed]",
      "text/plain": [
       "<Figure size 1000x600 with 1 Axes>"
      ]
     },
     "metadata": {},
     "output_type": "display_data"
    }
   ],
   "source": [
    "plt.figure(figsize=(10, 6))\n",
    "plt.subplot(1, 2, 2)\n",
    "sns.pointplot(data=df[df['Alloy'] == 2], x='Dentist', y='Response', hue='Method')\n",
    "plt.title('Interaction Plot - Alloy 2')\n",
    "\n",
    "plt.tight_layout()\n",
    "plt.show()"
   ]
  },
  {
   "cell_type": "code",
   "execution_count": 38,
   "id": "c5cc4d40",
   "metadata": {},
   "outputs": [],
   "source": [
    "#7.7 Now consider the effect of both factors, dentist, and method, separately on each alloy. What do you conclude? Is it possible to identify which dentists are different, which methods are different, and which interaction levels are different?"
   ]
  },
  {
   "cell_type": "code",
   "execution_count": 39,
   "id": "79d0594a",
   "metadata": {},
   "outputs": [],
   "source": [
    "# For Alloy 1:"
   ]
  },
  {
   "cell_type": "code",
   "execution_count": 47,
   "id": "41c91fbc",
   "metadata": {},
   "outputs": [
    {
     "name": "stdout",
     "output_type": "stream",
     "text": [
      "ANOVA - Alloy 1:\n",
      "                 sum_sq    df          F    PR(>F)\n",
      "Dentist    94802.677778   1.0   9.160485  0.004212\n",
      "Method    116812.800000   1.0  11.287254  0.001670\n",
      "Residual  434661.766667  42.0        NaN       NaN\n"
     ]
    }
   ],
   "source": [
    "from statsmodels.formula.api import ols\n",
    "import statsmodels.api as sm\n",
    "\n",
    "model_alloy1 = ols('Response ~ Dentist + Method', data=df[df['Alloy'] == 1]).fit()\n",
    "anova_table_alloy1 = sm.stats.anova_lm(model_alloy1, typ=2)\n",
    "\n",
    "print(\"ANOVA - Alloy 1:\")\n",
    "print(anova_table_alloy1)"
   ]
  },
  {
   "cell_type": "code",
   "execution_count": 48,
   "id": "570fe1f6",
   "metadata": {},
   "outputs": [],
   "source": [
    "# For Alloy 2:"
   ]
  },
  {
   "cell_type": "code",
   "execution_count": 49,
   "id": "eaacb013",
   "metadata": {},
   "outputs": [
    {
     "name": "stdout",
     "output_type": "stream",
     "text": [
      "ANOVA - Alloy 2:\n",
      "                 sum_sq    df          F    PR(>F)\n",
      "Dentist    54513.611111   1.0   3.022503  0.089443\n",
      "Method    326980.800000   1.0  18.129428  0.000113\n",
      "Residual  757508.388889  42.0        NaN       NaN\n"
     ]
    }
   ],
   "source": [
    "model_alloy2 = ols('Response ~ Dentist + Method', data=df[df['Alloy'] == 2]).fit()\n",
    "anova_table_alloy2 = sm.stats.anova_lm(model_alloy2, typ=2)\n",
    "\n",
    "print(\"ANOVA - Alloy 2:\")\n",
    "print(anova_table_alloy2)"
   ]
  },
  {
   "cell_type": "code",
   "execution_count": null,
   "id": "f58b06c5",
   "metadata": {},
   "outputs": [],
   "source": []
  },
  {
   "cell_type": "code",
   "execution_count": 50,
   "id": "56d0da61",
   "metadata": {},
   "outputs": [],
   "source": [
    "# By using fillna(residual_mean), the NaN values in the ANOVA table will be replaced with the calculated mean of the residuals. This will provide a complete ANOVA table for Alloy 1."
   ]
  },
  {
   "cell_type": "code",
   "execution_count": 51,
   "id": "8c287d51",
   "metadata": {},
   "outputs": [
    {
     "name": "stdout",
     "output_type": "stream",
     "text": [
      "ANOVA - Alloy 1:\n",
      "                 sum_sq    df              F         PR(>F)\n",
      "Dentist    94802.677778   1.0       9.160485       0.004212\n",
      "Method    116812.800000   1.0      11.287254       0.001670\n",
      "Residual  434661.766667  42.0  434661.766667  434661.766667\n"
     ]
    }
   ],
   "source": [
    "# Calculate the mean value of the residuals\n",
    "residual_mean = np.mean(anova_table_alloy1['sum_sq'][anova_table_alloy1.index == 'Residual'])\n",
    "\n",
    "# Replace NaN values with the mean\n",
    "anova_table_alloy1.fillna(residual_mean, inplace=True)\n",
    "\n",
    "# Print the modified ANOVA table\n",
    "print(\"ANOVA - Alloy 1:\")\n",
    "print(anova_table_alloy1)"
   ]
  },
  {
   "cell_type": "code",
   "execution_count": null,
   "id": "12e37053",
   "metadata": {},
   "outputs": [],
   "source": []
  },
  {
   "cell_type": "code",
   "execution_count": 52,
   "id": "de5a962b",
   "metadata": {},
   "outputs": [],
   "source": [
    "# By using fillna(residual_mean_alloy2), the NaN values in the ANOVA table for Alloy 2 will be replaced with the calculated mean of the residuals. This will provide a complete ANOVA table for Alloy 2."
   ]
  },
  {
   "cell_type": "code",
   "execution_count": 53,
   "id": "5f3dbe2d",
   "metadata": {},
   "outputs": [
    {
     "name": "stdout",
     "output_type": "stream",
     "text": [
      "ANOVA - Alloy 2:\n",
      "                 sum_sq    df              F         PR(>F)\n",
      "Dentist    54513.611111   1.0       3.022503       0.089443\n",
      "Method    326980.800000   1.0      18.129428       0.000113\n",
      "Residual  757508.388889  42.0  757508.388889  757508.388889\n"
     ]
    }
   ],
   "source": [
    "# Calculate the mean value of the residuals for Alloy 2\n",
    "residual_mean_alloy2 = np.mean(anova_table_alloy2['sum_sq'][anova_table_alloy2.index == 'Residual'])\n",
    "\n",
    "# Replace NaN values with the mean\n",
    "anova_table_alloy2.fillna(residual_mean_alloy2, inplace=True)\n",
    "\n",
    "# Print the modified ANOVA table for Alloy 2\n",
    "print(\"ANOVA - Alloy 2:\")\n",
    "print(anova_table_alloy2)"
   ]
  },
  {
   "cell_type": "code",
   "execution_count": null,
   "id": "0437ef29",
   "metadata": {},
   "outputs": [],
   "source": []
  }
 ],
 "metadata": {
  "kernelspec": {
   "display_name": "Python 3 (ipykernel)",
   "language": "python",
   "name": "python3"
  },
  "language_info": {
   "codemirror_mode": {
    "name": "ipython",
    "version": 3
   },
   "file_extension": ".py",
   "mimetype": "text/x-python",
   "name": "python",
   "nbconvert_exporter": "python",
   "pygments_lexer": "ipython3",
   "version": "3.10.9"
  }
 },
 "nbformat": 4,
 "nbformat_minor": 5
}
