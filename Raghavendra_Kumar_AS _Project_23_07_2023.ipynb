{
 "cells": [
  {
   "cell_type": "code",
   "execution_count": 1,
   "id": "fdc44e83",
   "metadata": {},
   "outputs": [],
   "source": [
    "import numpy as np\n",
    "import scipy.stats as stats\n",
    "import pandas as pd\n",
    "import matplotlib.pyplot as plt\n",
    "import seaborn as sns\n",
    "from statsmodels.formula.api import ols      \n",
    "from statsmodels.stats.anova import _get_covariance,anova_lm \n",
    "%matplotlib inline\n",
    "from scipy.stats import ttest_1samp\n",
    "from scipy.stats import ttest_ind"
   ]
  },
  {
   "cell_type": "code",
   "execution_count": 2,
   "id": "d2db26e7",
   "metadata": {},
   "outputs": [],
   "source": [
    "# Problem 01"
   ]
  },
  {
   "cell_type": "code",
   "execution_count": 3,
   "id": "67155690",
   "metadata": {},
   "outputs": [],
   "source": [
    "data = {\n",
    "    'Position': ['Striker', 'Forward', 'Attacking Midfielder', 'Winger'],\n",
    "    'Players Injured': [45, 56, 24, 20],\n",
    "    'Players Not Injured': [32, 38, 11, 9],\n",
    "    'Total': [77, 94, 35, 29]\n",
    "   \n",
    "    }\n",
    "\n",
    "df = pd.DataFrame(data)"
   ]
  },
  {
   "cell_type": "code",
   "execution_count": null,
   "id": "e65525e1",
   "metadata": {},
   "outputs": [],
   "source": []
  },
  {
   "cell_type": "code",
   "execution_count": 4,
   "id": "572e3f3d",
   "metadata": {},
   "outputs": [],
   "source": [
    "#1.1 What is the probability that a randomly chosen player would suffer an injury?"
   ]
  },
  {
   "cell_type": "code",
   "execution_count": 5,
   "id": "f535cea0",
   "metadata": {},
   "outputs": [
    {
     "name": "stdout",
     "output_type": "stream",
     "text": [
      "Probability of a randomly chosen player suffering an injury: 0.6170212765957447\n"
     ]
    }
   ],
   "source": [
    "total_injured = 145\n",
    "total_players = 235\n",
    "probability_injured = total_injured / total_players\n",
    "print(\"Probability of a randomly chosen player suffering an injury:\", probability_injured)"
   ]
  },
  {
   "cell_type": "code",
   "execution_count": 6,
   "id": "c0f3b07d",
   "metadata": {},
   "outputs": [],
   "source": [
    "#1.2 What is the probability that a player is a forward or a winger?"
   ]
  },
  {
   "cell_type": "code",
   "execution_count": 7,
   "id": "ae10d30f",
   "metadata": {},
   "outputs": [
    {
     "name": "stdout",
     "output_type": "stream",
     "text": [
      "Probability that a player is a forward or a winger: 0.5234042553191489\n"
     ]
    }
   ],
   "source": [
    "forwards = 94\n",
    "wingers = 29\n",
    "total_players = 235\n",
    "probability_forward_or_winger = (forwards + wingers) / total_players\n",
    "print(\"Probability that a player is a forward or a winger:\", probability_forward_or_winger)"
   ]
  },
  {
   "cell_type": "code",
   "execution_count": 8,
   "id": "99067385",
   "metadata": {},
   "outputs": [],
   "source": [
    "#1.3 What is the probability that a randomly chosen player plays in a striker position and has a foot injury?"
   ]
  },
  {
   "cell_type": "code",
   "execution_count": 9,
   "id": "a561fad2",
   "metadata": {},
   "outputs": [
    {
     "name": "stdout",
     "output_type": "stream",
     "text": [
      "Probability that a randomly chosen player plays in a striker position and has a foot injury: 0.19148936170212766\n"
     ]
    }
   ],
   "source": [
    "strikers_injured = 45\n",
    "total_players = 235\n",
    "probability_striker_injury = strikers_injured / total_players\n",
    "print(\"Probability that a randomly chosen player plays in a striker position and has a foot injury:\", probability_striker_injury)"
   ]
  },
  {
   "cell_type": "code",
   "execution_count": 10,
   "id": "73a1f941",
   "metadata": {},
   "outputs": [],
   "source": [
    "#1.4 What is the probability that a randomly chosen injured player is a striker?"
   ]
  },
  {
   "cell_type": "code",
   "execution_count": 11,
   "id": "652f64e7",
   "metadata": {},
   "outputs": [
    {
     "name": "stdout",
     "output_type": "stream",
     "text": [
      "Probability that a randomly chosen injured player is a striker: 0.3103448275862069\n"
     ]
    }
   ],
   "source": [
    "strikers_injured = 45\n",
    "total_injured = 145\n",
    "probability_injured_striker = strikers_injured / total_injured\n",
    "print(\"Probability that a randomly chosen injured player is a striker:\", probability_injured_striker)"
   ]
  },
  {
   "cell_type": "code",
   "execution_count": 12,
   "id": "11a07cef",
   "metadata": {},
   "outputs": [],
   "source": [
    "#1.5 What is the probability that a randomly chosen injured player is either a forward or an attacking midfielder? "
   ]
  },
  {
   "cell_type": "code",
   "execution_count": 13,
   "id": "7f1db2ff",
   "metadata": {},
   "outputs": [
    {
     "name": "stdout",
     "output_type": "stream",
     "text": [
      "Probability that a randomly chosen injured player is either a forward or an attacking midfielder: 0.5517241379310345\n"
     ]
    }
   ],
   "source": [
    "forward_or_midfielder_injured = 56 + 24\n",
    "total_injured = 145\n",
    "probability_injured_forward_or_midfielder = forward_or_midfielder_injured / total_injured\n",
    "print(\"Probability that a randomly chosen injured player is either a forward or an attacking midfielder:\", probability_injured_forward_or_midfielder)"
   ]
  },
  {
   "cell_type": "code",
   "execution_count": null,
   "id": "c7b4667d",
   "metadata": {},
   "outputs": [],
   "source": []
  },
  {
   "cell_type": "code",
   "execution_count": 14,
   "id": "edb7ea96",
   "metadata": {},
   "outputs": [],
   "source": [
    "#problem 02 An independent research organization is trying to estimate the probability that an accident at a nuclear power plant will result in radiation leakage. The types of accidents possible at the plant are, fire hazards, mechanical failure, or human error. The research organization also knows that two or more types of accidents cannot occur simultaneously.\n",
    "# According to the studies carried out by the organization, the probability of a radiation leak in case of a fire is 20%, the probability of a radiation leak in case of a mechanical 50%, and the probability of a radiation leak in case of a human error is 10%. The studies also showed the following;\n",
    "# •\tThe probability of a radiation leak occurring simultaneously with a fire is 0.1%.\n",
    "# •\tThe probability of a radiation leak occurring simultaneously with a mechanical failure is 0.15%.\n",
    "# •\tThe probability of a radiation leak occurring simultaneously with a human error is 0.12%."
   ]
  },
  {
   "cell_type": "code",
   "execution_count": null,
   "id": "b2fb2872",
   "metadata": {},
   "outputs": [],
   "source": []
  },
  {
   "cell_type": "code",
   "execution_count": 15,
   "id": "5e3e1826",
   "metadata": {},
   "outputs": [],
   "source": [
    "#2.1 What are the probabilities of a fire, a mechanical failure, and a human error respectively?"
   ]
  },
  {
   "cell_type": "code",
   "execution_count": 16,
   "id": "b7027aee",
   "metadata": {},
   "outputs": [
    {
     "name": "stdout",
     "output_type": "stream",
     "text": [
      "Probabilities:\n",
      "Fire: 0.0007400000000000001\n",
      "Mechanical Failure: 0.00185\n",
      "Human Error: 0.00037000000000000005\n"
     ]
    }
   ],
   "source": [
    "# Calculate the probabilities of a fire, a mechanical failure, and a human error\n",
    "\n",
    "p_fire_given_radiation = 0.20\n",
    "p_mechanical_failure_given_radiation = 0.50\n",
    "p_human_error_given_radiation = 0.10\n",
    "\n",
    "p_radiation_given_fire = 0.0010\n",
    "p_radiation_given_mechanical_failure = 0.0015\n",
    "p_radiation_given_human_error = 0.0012\n",
    "\n",
    "p_radiation = p_radiation_given_fire + p_radiation_given_mechanical_failure + p_radiation_given_human_error\n",
    "\n",
    "p_fire = p_fire_given_radiation * p_radiation\n",
    "p_mechanical_failure = p_mechanical_failure_given_radiation * p_radiation\n",
    "p_human_error = p_human_error_given_radiation * p_radiation\n",
    "\n",
    "print(\"Probabilities:\")\n",
    "print(\"Fire:\", p_fire)\n",
    "print(\"Mechanical Failure:\", p_mechanical_failure)\n",
    "print(\"Human Error:\", p_human_error)"
   ]
  },
  {
   "cell_type": "code",
   "execution_count": null,
   "id": "1df295f6",
   "metadata": {},
   "outputs": [],
   "source": []
  },
  {
   "cell_type": "code",
   "execution_count": 17,
   "id": "e80b9db0",
   "metadata": {},
   "outputs": [],
   "source": [
    "#2.2 What is the probability of a radiation leak?"
   ]
  },
  {
   "cell_type": "code",
   "execution_count": 18,
   "id": "bc0334c6",
   "metadata": {},
   "outputs": [
    {
     "name": "stdout",
     "output_type": "stream",
     "text": [
      "Probability of a Radiation Leak: 0.0037\n"
     ]
    }
   ],
   "source": [
    "# Calculate the probability of a radiation leak\n",
    "\n",
    "p_radiation_given_fire = 0.20\n",
    "p_radiation_given_mechanical_failure = 0.50\n",
    "p_radiation_given_human_error = 0.10\n",
    "\n",
    "p_fire = 0.005\n",
    "p_mechanical_failure = 0.003\n",
    "p_human_error = 0.012\n",
    "\n",
    "p_radiation_leak = (\n",
    "    p_radiation_given_fire * p_fire\n",
    "    + p_radiation_given_mechanical_failure * p_mechanical_failure\n",
    "    + p_radiation_given_human_error * p_human_error\n",
    ")\n",
    "\n",
    "print(\"Probability of a Radiation Leak:\", p_radiation_leak)"
   ]
  },
  {
   "cell_type": "code",
   "execution_count": null,
   "id": "36e9c348",
   "metadata": {},
   "outputs": [],
   "source": []
  },
  {
   "cell_type": "code",
   "execution_count": 19,
   "id": "7c98f88b",
   "metadata": {},
   "outputs": [],
   "source": [
    "# # 2.3 Suppose there has been a radiation leak in the reactor for which the definite cause is not known. What is the probability that it has been caused by:\n",
    "# A Fire.\n",
    "# A Mechanical Failure.\n",
    "# A Human Error."
   ]
  },
  {
   "cell_type": "code",
   "execution_count": 20,
   "id": "3c150f29",
   "metadata": {},
   "outputs": [
    {
     "name": "stdout",
     "output_type": "stream",
     "text": [
      "Probabilities:\n",
      "Probability of a Fire given Radiation Leak: 0.2702702702702703\n",
      "Probability of a Mechanical Failure given Radiation Leak: 0.4054054054054054\n",
      "Probability of a Human Error given Radiation Leak: 0.32432432432432434\n"
     ]
    }
   ],
   "source": [
    "# Calculate the probabilities of a fire, a mechanical failure, and a human error given the radiation leak\n",
    "\n",
    "p_radiation_given_fire = 0.20\n",
    "p_radiation_given_mechanical_failure = 0.50\n",
    "p_radiation_given_human_error = 0.10\n",
    "\n",
    "p_fire = 0.005\n",
    "p_mechanical_failure = 0.003\n",
    "p_human_error = 0.012\n",
    "\n",
    "p_fire_given_radiation = (p_radiation_given_fire * p_fire) / p_radiation_leak\n",
    "p_mechanical_failure_given_radiation = (p_radiation_given_mechanical_failure * p_mechanical_failure) / p_radiation_leak\n",
    "p_human_error_given_radiation = (p_radiation_given_human_error * p_human_error) / p_radiation_leak\n",
    "\n",
    "print(\"Probabilities:\")\n",
    "print(\"Probability of a Fire given Radiation Leak:\", p_fire_given_radiation)\n",
    "print(\"Probability of a Mechanical Failure given Radiation Leak:\", p_mechanical_failure_given_radiation)\n",
    "print(\"Probability of a Human Error given Radiation Leak:\", p_human_error_given_radiation)"
   ]
  },
  {
   "cell_type": "code",
   "execution_count": null,
   "id": "50e664f7",
   "metadata": {},
   "outputs": [],
   "source": []
  },
  {
   "cell_type": "code",
   "execution_count": 21,
   "id": "add21d07",
   "metadata": {},
   "outputs": [],
   "source": [
    "#Problem 3 -The breaking strength of gunny bags used for packaging cement is normally distributed with a mean of 5 kg per sq. centimetre and a standard deviation of 1.5 kg per sq. centimeter. The quality team of the cement company wants to know the following about the packaging material to better understand wastage or pilferage within the supply chain; Answer the questions below based on the given information; (Provide an appropriate visual representation of your answers, without which marks will be deducted)"
   ]
  },
  {
   "cell_type": "code",
   "execution_count": 22,
   "id": "7e074c0b",
   "metadata": {},
   "outputs": [],
   "source": [
    "#3.1 What proportion of the gunny bags have a breaking strength less than 3.17 kg per sq cm?"
   ]
  },
  {
   "cell_type": "code",
   "execution_count": null,
   "id": "78b0f066",
   "metadata": {},
   "outputs": [],
   "source": []
  },
  {
   "cell_type": "code",
   "execution_count": 23,
   "id": "ba4ddf27",
   "metadata": {},
   "outputs": [
    {
     "data": {
      "image/png": "[encoded data removed]",
      "text/plain": [
       "<Figure size 640x480 with 1 Axes>"
      ]
     },
     "metadata": {},
     "output_type": "display_data"
    },
    {
     "name": "stdout",
     "output_type": "stream",
     "text": [
      "Proportion of Gunny Bags with Breaking Strength Less Than 3.17 kg per sq cm: 0.11123243744783456\n"
     ]
    }
   ],
   "source": [
    "\n",
    "# Given information\n",
    "mean = 5\n",
    "std_dev = 1.5\n",
    "observed_value = 3.17\n",
    "\n",
    "# Calculate the z-score\n",
    "z = (observed_value - mean) / std_dev\n",
    "\n",
    "# Calculate the proportion using the CDF\n",
    "proportion_less_than_observed = stats.norm.cdf(z)\n",
    "\n",
    "# Visualize the proportion\n",
    "x = [mean - 4 * std_dev, mean + 4 * std_dev]\n",
    "y = [0, proportion_less_than_observed]\n",
    "plt.fill_between(x, y, alpha=0.3, color='blue')\n",
    "plt.plot(observed_value, proportion_less_than_observed, 'ro')\n",
    "plt.xlabel('Breaking Strength (kg per sq cm)')\n",
    "plt.ylabel('Proportion')\n",
    "plt.title('Proportion of Gunny Bags with Breaking Strength Less Than 3.17 kg per sq cm')\n",
    "plt.show()\n",
    "\n",
    "print(\"Proportion of Gunny Bags with Breaking Strength Less Than 3.17 kg per sq cm:\", proportion_less_than_observed)"
   ]
  },
  {
   "cell_type": "code",
   "execution_count": null,
   "id": "2560f552",
   "metadata": {},
   "outputs": [],
   "source": []
  },
  {
   "cell_type": "code",
   "execution_count": 24,
   "id": "84b022b0",
   "metadata": {},
   "outputs": [],
   "source": [
    "#3.2 What proportion of the gunny bags have a breaking strength at least 3.6 kg per sq cm.?"
   ]
  },
  {
   "cell_type": "code",
   "execution_count": 25,
   "id": "dc66af51",
   "metadata": {},
   "outputs": [
    {
     "data": {
      "image/png": "[encoded data removed]",
      "text/plain": [
       "<Figure size 640x480 with 1 Axes>"
      ]
     },
     "metadata": {},
     "output_type": "display_data"
    },
    {
     "name": "stdout",
     "output_type": "stream",
     "text": [
      "Proportion of Gunny Bags with Breaking Strength at Least 3.6 kg per sq cm: 0.8246760551477705\n"
     ]
    }
   ],
   "source": [
    "\n",
    "\n",
    "# Given information\n",
    "mean = 5\n",
    "std_dev = 1.5\n",
    "observed_value = 3.6\n",
    "\n",
    "# Calculate the z-score\n",
    "z = (observed_value - mean) / std_dev\n",
    "\n",
    "# Calculate the proportion using the CCDF\n",
    "proportion_at_least_observed = 1 - stats.norm.cdf(z)\n",
    "\n",
    "# Visualize the proportion\n",
    "x = [mean - 4 * std_dev, mean + 4 * std_dev]\n",
    "y = [proportion_at_least_observed, 1]\n",
    "plt.fill_between(x, y, alpha=0.3, color='blue')\n",
    "plt.plot(observed_value, proportion_at_least_observed, 'ro')\n",
    "plt.xlabel('Breaking Strength (kg per sq cm)')\n",
    "plt.ylabel('Proportion')\n",
    "plt.title('Proportion of Gunny Bags with Breaking Strength at Least 3.6 kg per sq cm')\n",
    "plt.show()\n",
    "\n",
    "print(\"Proportion of Gunny Bags with Breaking Strength at Least 3.6 kg per sq cm:\", proportion_at_least_observed)"
   ]
  },
  {
   "cell_type": "code",
   "execution_count": null,
   "id": "3d20a26a",
   "metadata": {},
   "outputs": [],
   "source": []
  },
  {
   "cell_type": "code",
   "execution_count": 26,
   "id": "e9c81356",
   "metadata": {},
   "outputs": [],
   "source": [
    "#3.3 What proportion of the gunny bags have a breaking strength between 5 and 5.5 kg per sq cm.?"
   ]
  },
  {
   "cell_type": "code",
   "execution_count": null,
   "id": "ce69e7d2",
   "metadata": {},
   "outputs": [],
   "source": []
  },
  {
   "cell_type": "code",
   "execution_count": 27,
   "id": "d8cf33aa",
   "metadata": {},
   "outputs": [
    {
     "name": "stdout",
     "output_type": "stream",
     "text": [
      "Proportion of Gunny Bags with Breaking Strength Between 5 and 5.5 kg per sq cm: 0.13055865981823633\n"
     ]
    },
    {
     "data": {
      "image/png": "[encoded data removed]",
      "text/plain": [
       "<Figure size 640x480 with 1 Axes>"
      ]
     },
     "metadata": {},
     "output_type": "display_data"
    }
   ],
   "source": [
    "# Given information\n",
    "mean = 5\n",
    "std_dev = 1.5\n",
    "lower_value = 5\n",
    "upper_value = 5.5\n",
    "\n",
    "# Calculate the z-scores\n",
    "z_lower = (lower_value - mean) / std_dev\n",
    "z_upper = (upper_value - mean) / std_dev\n",
    "\n",
    "# Calculate the proportions using the cumulative distribution function (CDF)\n",
    "proportion_lower = stats.norm.cdf(z_lower)\n",
    "proportion_upper = stats.norm.cdf(z_upper)\n",
    "\n",
    "# Calculate the desired proportion\n",
    "proportion_between = proportion_upper - proportion_lower\n",
    "\n",
    "print(\"Proportion of Gunny Bags with Breaking Strength Between 5 and 5.5 kg per sq cm:\", proportion_between)\n",
    "\n",
    "# Visualize the proportion\n",
    "x = [lower_value, upper_value]\n",
    "y = [proportion_between, proportion_between]\n",
    "plt.fill_between(x, y, alpha=0.3, color='blue')\n",
    "plt.xlabel('Breaking Strength (kg per sq cm)')\n",
    "plt.ylabel('Proportion')\n",
    "plt.title('Proportion of Gunny Bags with Breaking Strength Between 5 and 5.5 kg per sq cm')\n",
    "plt.show()"
   ]
  },
  {
   "cell_type": "code",
   "execution_count": 28,
   "id": "a1824f6c",
   "metadata": {},
   "outputs": [],
   "source": [
    "#3.4 What proportion of the gunny bags have a breaking strength NOT between 3 and 7.5 kg per sq cm.?"
   ]
  },
  {
   "cell_type": "code",
   "execution_count": null,
   "id": "4acf5db7",
   "metadata": {},
   "outputs": [],
   "source": []
  },
  {
   "cell_type": "code",
   "execution_count": 29,
   "id": "262fa828",
   "metadata": {},
   "outputs": [
    {
     "name": "stdout",
     "output_type": "stream",
     "text": [
      "Proportion of Gunny Bags with Breaking Strength NOT between 3 and 7.5 kg per sq cm: 0.13900157199868257\n"
     ]
    },
    {
     "data": {
      "image/png": "[encoded data removed]",
      "text/plain": [
       "<Figure size 640x480 with 1 Axes>"
      ]
     },
     "metadata": {},
     "output_type": "display_data"
    }
   ],
   "source": [
    "# Given information\n",
    "mean = 5\n",
    "std_dev = 1.5\n",
    "lower_value = 3\n",
    "upper_value = 7.5\n",
    "\n",
    "# Calculate the z-scores\n",
    "z_lower = (lower_value - mean) / std_dev\n",
    "z_upper = (upper_value - mean) / std_dev\n",
    "\n",
    "# Calculate the probabilities using the cumulative distribution function (CDF)\n",
    "prob_lower = stats.norm.cdf(z_lower)\n",
    "prob_upper = stats.norm.cdf(z_upper)\n",
    "\n",
    "# Calculate the complement of the desired proportion\n",
    "proportion_not_between = 1 - (prob_upper - prob_lower)\n",
    "\n",
    "print(\"Proportion of Gunny Bags with Breaking Strength NOT between 3 and 7.5 kg per sq cm:\", proportion_not_between)\n",
    "\n",
    "# Visualize the proportion\n",
    "x = [mean - 4 * std_dev, lower_value, upper_value, mean + 4 * std_dev]\n",
    "y = [0, 1, 1, 0]\n",
    "plt.fill_between(x, y, alpha=0.3, color='blue')\n",
    "plt.plot([lower_value, upper_value], [1, 1], 'ro')\n",
    "plt.xlabel('Breaking Strength (kg per sq cm)')\n",
    "plt.ylabel('Proportion')\n",
    "plt.title('Proportion of Gunny Bags with Breaking Strength NOT between 3 and 7.5 kg per sq cm')\n",
    "plt.show()"
   ]
  },
  {
   "cell_type": "code",
   "execution_count": null,
   "id": "c718d9f5",
   "metadata": {},
   "outputs": [],
   "source": []
  },
  {
   "cell_type": "code",
   "execution_count": 30,
   "id": "b35bcc7b",
   "metadata": {},
   "outputs": [],
   "source": [
    "# 4 .Grades of the final examination in a training course are found to be normally distributed, with a mean of 77 and a standard deviation of 8.5. Based on the given information answer the questions below."
   ]
  },
  {
   "cell_type": "code",
   "execution_count": 31,
   "id": "6aa18dac",
   "metadata": {},
   "outputs": [],
   "source": [
    "from scipy.stats import norm"
   ]
  },
  {
   "cell_type": "code",
   "execution_count": 32,
   "id": "bd10c248",
   "metadata": {},
   "outputs": [
    {
     "name": "stdout",
     "output_type": "stream",
     "text": [
      "Probability of getting a grade below 85: 1.0\n"
     ]
    }
   ],
   "source": [
    "# 4.1: Probability of getting a grade below 85\n",
    "prob_below_85 = norm.cdf(85, loc=mean, scale=std_dev)\n",
    "print(\"Probability of getting a grade below 85:\", prob_below_85)"
   ]
  },
  {
   "cell_type": "code",
   "execution_count": 33,
   "id": "738052d2",
   "metadata": {},
   "outputs": [
    {
     "name": "stdout",
     "output_type": "stream",
     "text": [
      "Probability of scoring between 65 and 87: 0.0\n"
     ]
    }
   ],
   "source": [
    "# 4.2: Probability of scoring between 65 and 87\n",
    "prob_between_65_87 = norm.cdf(87, loc=mean, scale=std_dev) - norm.cdf(65, loc=mean, scale=std_dev)\n",
    "print(\"Probability of scoring between 65 and 87:\", prob_between_65_87)"
   ]
  },
  {
   "cell_type": "code",
   "execution_count": 34,
   "id": "e2ac46f6",
   "metadata": {},
   "outputs": [
    {
     "name": "stdout",
     "output_type": "stream",
     "text": [
      "Passing cut-off for 75% of students: 6.011734625294123\n"
     ]
    }
   ],
   "source": [
    "# 4.3: Passing cut-off to clear the exam for 75% of students\n",
    "passing_cutoff = norm.ppf(0.75, loc=mean, scale=std_dev)\n",
    "print(\"Passing cut-off for 75% of students:\", passing_cutoff)"
   ]
  },
  {
   "cell_type": "code",
   "execution_count": 35,
   "id": "b6223288",
   "metadata": {},
   "outputs": [
    {
     "name": "stdout",
     "output_type": "stream",
     "text": [
      "Probability of getting a grade below 85: 0.8266927837484748\n",
      "Probability of scoring between 65 and 87: 0.8012869336779058\n",
      "Passing cut-off for 75% of students: 82.7331628766667\n"
     ]
    }
   ],
   "source": [
    "mean = 77\n",
    "std_dev = 8.5\n",
    "\n",
    "# 4.1: Probability of getting a grade below 85\n",
    "prob_below_85 = norm.cdf(85, loc=mean, scale=std_dev)\n",
    "print(\"Probability of getting a grade below 85:\", prob_below_85)\n",
    "\n",
    "# 4.2: Probability of scoring between 65 and 87\n",
    "prob_between_65_87 = norm.cdf(87, loc=mean, scale=std_dev) - norm.cdf(65, loc=mean, scale=std_dev)\n",
    "print(\"Probability of scoring between 65 and 87:\", prob_between_65_87)\n",
    "\n",
    "# 4.3: Passing cut-off to clear the exam for 75% of students\n",
    "passing_cutoff = norm.ppf(0.75, loc=mean, scale=std_dev)\n",
    "print(\"Passing cut-off for 75% of students:\", passing_cutoff)"
   ]
  },
  {
   "cell_type": "code",
   "execution_count": 36,
   "id": "4e722003",
   "metadata": {},
   "outputs": [],
   "source": [
    "# 5 Zingaro stone printing is a company that specializes in printing images or patterns on polished or unpolished stones. However, for the optimum level of printing of the image the stone surface has to have a Brinell's hardness index of at least 150. Recently, Zingaro has received a batch of polished and unpolished stones from its clients. Use the data provided to answer the following (assuming a 5% significance level);"
   ]
  },
  {
   "cell_type": "code",
   "execution_count": 37,
   "id": "cfdffd10",
   "metadata": {},
   "outputs": [],
   "source": [
    "dataset = pd.read_csv(r\"C:\\Users\\ragha\\OneDrive\\Desktop\\Great Learning\\GL Practice files\\Advance stats\\Zingaro_Company.csv\")"
   ]
  },
  {
   "cell_type": "code",
   "execution_count": 38,
   "id": "b7e7f4ca",
   "metadata": {},
   "outputs": [
    {
     "data": {
      "text/html": [
       "<div>\n",
       "<style scoped>\n",
       "    .dataframe tbody tr th:only-of-type {\n",
       "        vertical-align: middle;\n",
       "    }\n",
       "\n",
       "    .dataframe tbody tr th {\n",
       "        vertical-align: top;\n",
       "    }\n",
       "\n",
       "    .dataframe thead th {\n",
       "        text-align: right;\n",
       "    }\n",
       "</style>\n",
       "<table border=\"1\" class=\"dataframe\">\n",
       "  <thead>\n",
       "    <tr style=\"text-align: right;\">\n",
       "      <th></th>\n",
       "      <th>Unpolished</th>\n",
       "      <th>Treated and Polished</th>\n",
       "    </tr>\n",
       "  </thead>\n",
       "  <tbody>\n",
       "    <tr>\n",
       "      <th>0</th>\n",
       "      <td>164.481713</td>\n",
       "      <td>133.209393</td>\n",
       "    </tr>\n",
       "    <tr>\n",
       "      <th>1</th>\n",
       "      <td>154.307045</td>\n",
       "      <td>138.482771</td>\n",
       "    </tr>\n",
       "    <tr>\n",
       "      <th>2</th>\n",
       "      <td>129.861048</td>\n",
       "      <td>159.665201</td>\n",
       "    </tr>\n",
       "    <tr>\n",
       "      <th>3</th>\n",
       "      <td>159.096184</td>\n",
       "      <td>145.663528</td>\n",
       "    </tr>\n",
       "    <tr>\n",
       "      <th>4</th>\n",
       "      <td>135.256748</td>\n",
       "      <td>136.789227</td>\n",
       "    </tr>\n",
       "  </tbody>\n",
       "</table>\n",
       "</div>"
      ],
      "text/plain": [
       "   Unpolished   Treated and Polished\n",
       "0   164.481713            133.209393\n",
       "1   154.307045            138.482771\n",
       "2   129.861048            159.665201\n",
       "3   159.096184            145.663528\n",
       "4   135.256748            136.789227"
      ]
     },
     "execution_count": 38,
     "metadata": {},
     "output_type": "execute_result"
    }
   ],
   "source": [
    "dataset.head()"
   ]
  },
  {
   "cell_type": "code",
   "execution_count": null,
   "id": "1bac9c8d",
   "metadata": {},
   "outputs": [],
   "source": []
  },
  {
   "cell_type": "code",
   "execution_count": 39,
   "id": "1e74226c",
   "metadata": {},
   "outputs": [],
   "source": [
    "# 5.1 Earlier experience of Zingaro with this particular client is favorable as the stone surface was found to be of adequate hardness. However, Zingaro has reason to believe now that the unpolished stones may not be suitable for printing. Do you think Zingaro is justified in thinking so?"
   ]
  },
  {
   "cell_type": "code",
   "execution_count": 40,
   "id": "ccf8ac70",
   "metadata": {},
   "outputs": [],
   "source": [
    "# one sample t-test"
   ]
  },
  {
   "cell_type": "code",
   "execution_count": 41,
   "id": "6800faf2",
   "metadata": {},
   "outputs": [
    {
     "name": "stdout",
     "output_type": "stream",
     "text": [
      "Sample Mean Hardness of Unpolished Stones: 120.70887126064515\n",
      "t-statistic: -5.161700020854986\n",
      "p-value: 1.4755689499279681e-05\n",
      "Degrees of Freedom: 30\n",
      "The p-value is less than the significance level (0.05). Reject the null hypothesis.\n",
      "The unpolished stones may not be suitable for printing.\n"
     ]
    }
   ],
   "source": [
    "import numpy as np\n",
    "from scipy.stats import ttest_1samp\n",
    "\n",
    "# Data for unpolished stones\n",
    "unpolished_stones = np.array([164.4817129, 154.3070452, 129.8610478, 159.0961836, 135.2567483,\n",
    "                     161.8201202, 149.4550537, 135.7143169, 102.0045188, 89.482158,\n",
    "                     95.34903009, 104.4214033, 140.8893522, 147.3666473, 48.40683839,\n",
    "                     68.25154209, 126.1698324, 130.4361532, 120.8943152, 107.2753413,\n",
    "                     64.57581982, 136.6500503, 94.63178559, 154.6701824, 75.28981154,\n",
    "                     149.0171371, 162.3573614, 113.6495183, 120.4372985, 100.8909747,\n",
    "                     98.86570856\n",
    "])\n",
    "\n",
    "# Perform one-sample t-test\n",
    "mean_hardness_unpolished = np.mean(unpolished_stones)\n",
    "t_statistic, p_value = ttest_1samp(unpolished_stones, 150)\n",
    "\n",
    "# Degrees of freedom\n",
    "df = len(unpolished_stones) - 1\n",
    "\n",
    "# Display results\n",
    "print(\"Sample Mean Hardness of Unpolished Stones:\", mean_hardness_unpolished)\n",
    "print(\"t-statistic:\", t_statistic)\n",
    "print(\"p-value:\", p_value)\n",
    "print(\"Degrees of Freedom:\", df)\n",
    "\n",
    "# Check significance at 5% level\n",
    "alpha = 0.05\n",
    "if p_value < alpha:\n",
    "    print(\"The p-value is less than the significance level ({}). Reject the null hypothesis.\".format(alpha))\n",
    "    print(\"The unpolished stones may not be suitable for printing.\")\n",
    "else:\n",
    "    print(\"The p-value is greater than or equal to the significance level ({}). Fail to reject the null hypothesis.\".format(alpha))\n",
    "    print(\"The unpolished stones are suitable for printing.\")"
   ]
  },
  {
   "cell_type": "code",
   "execution_count": null,
   "id": "29c2f1f4",
   "metadata": {},
   "outputs": [],
   "source": []
  },
  {
   "cell_type": "code",
   "execution_count": 42,
   "id": "5fdeaea2",
   "metadata": {},
   "outputs": [],
   "source": [
    "# two sample t-test "
   ]
  },
  {
   "cell_type": "code",
   "execution_count": 43,
   "id": "825344e0",
   "metadata": {},
   "outputs": [
    {
     "name": "stdout",
     "output_type": "stream",
     "text": [
      "Reject the null hypothesis.\n",
      "There is sufficient evidence to suggest that the mean hardness of polished and unpolished stones is not the same.\n",
      "Test Statistic: 4.337308480562442\n",
      "p-value: 5.607689693904209e-05\n"
     ]
    }
   ],
   "source": [
    "import numpy as np\n",
    "from scipy.stats import ttest_ind\n",
    "\n",
    "# Define the data for polished \n",
    "Polished_stones = np.array([133.2093928, 138.4827707, 159.6652012, 145.6635282, 136.7892272,\n",
    "                   167.086582, 152.6996408, 138.6487657, 163.3844269, 132.1417257,\n",
    "                   145.8285257, 162.0816128, 153.798449, 159.0120051, 168.3462233,\n",
    "                   132.6829555, 151.2738748, 130.9558037, 141.3442879, 171.1146621,\n",
    "                   139.7076719, 125.8485996, 152.3545271, 155.1468488, 145.2061887,\n",
    "                   168.6528203, 131.9871467, 148.595124, 138.0538286, 134.7560427,\n",
    "                   142.1567842\n",
    "])\n",
    "\n",
    "Unpolished_stones = np.array([164.4817129, 154.3070452, 129.8610478, 159.0961836, 135.2567483,\n",
    "                     161.8201202, 149.4550537, 135.7143169, 102.0045188, 89.482158,\n",
    "                     95.34903009, 104.4214033, 140.8893522, 147.3666473, 48.40683839,\n",
    "                     68.25154209, 126.1698324, 130.4361532, 120.8943152, 107.2753413,\n",
    "                     64.57581982, 136.6500503, 94.63178559, 154.6701824, 75.28981154,\n",
    "                     149.0171371, 162.3573614, 113.6495183, 120.4372985, 100.8909747,\n",
    "                     98.86570856\n",
    "])\n",
    "\n",
    "# Set the significance level\n",
    "alpha = 0.05\n",
    "\n",
    "# Perform two-sample t-test\n",
    "t_statistic, p_value = ttest_ind(Polished_stones, Unpolished_stones)\n",
    "\n",
    "# Compare p-value with significance level\n",
    "if p_value < alpha:\n",
    "    print(\"Reject the null hypothesis.\")\n",
    "    print(\"There is sufficient evidence to suggest that the mean hardness of polished and unpolished stones is not the same.\")\n",
    "else:\n",
    "    print(\"Fail to reject the null hypothesis.\")\n",
    "    print(\"There is not enough evidence to suggest a difference in the mean hardness of polished and unpolished stones.\")\n",
    "\n",
    "# Print the test statistic and p-value\n",
    "print(\"Test Statistic:\", t_statistic)\n",
    "print(\"p-value:\", p_value)"
   ]
  },
  {
   "cell_type": "code",
   "execution_count": null,
   "id": "82b351a2",
   "metadata": {},
   "outputs": [],
   "source": []
  },
  {
   "cell_type": "code",
   "execution_count": 44,
   "id": "afb41bb0",
   "metadata": {},
   "outputs": [],
   "source": [
    "#5.2 Is the mean hardness of the polished and unpolished stones the same?"
   ]
  },
  {
   "cell_type": "code",
   "execution_count": 45,
   "id": "7c50999d",
   "metadata": {},
   "outputs": [
    {
     "name": "stdout",
     "output_type": "stream",
     "text": [
      "Reject the null hypothesis.\n",
      "There is sufficient evidence to suggest that the mean hardness of polished and unpolished stones is different.\n"
     ]
    }
   ],
   "source": [
    "\n",
    "# Given data for polished and unpolished stones\n",
    "polished_stones = [133.2093928, 138.4827707, 159.6652012, 145.6635282, 136.7892272,\n",
    "                   167.086582, 152.6996408, 138.6487657, 163.3844269, 132.1417257,\n",
    "                   145.8285257, 162.0816128, 153.798449, 159.0120051, 168.3462233,\n",
    "                   132.6829555, 151.2738748, 130.9558037, 141.3442879, 171.1146621,\n",
    "                   139.7076719, 125.8485996, 152.3545271, 155.1468488, 145.2061887,\n",
    "                   168.6528203, 131.9871467, 148.595124, 138.0538286, 134.7560427,\n",
    "                   142.1567842]\n",
    "\n",
    "unpolished_stones = [164.4817129, 154.3070452, 129.8610478, 159.0961836, 135.2567483,\n",
    "                     161.8201202, 149.4550537, 135.7143169, 102.0045188, 89.482158,\n",
    "                     95.34903009, 104.4214033, 140.8893522, 147.3666473, 48.40683839,\n",
    "                     68.25154209, 126.1698324, 130.4361532, 120.8943152, 107.2753413,\n",
    "                     64.57581982, 136.6500503, 94.63178559, 154.6701824, 75.28981154,\n",
    "                     149.0171371, 162.3573614, 113.6495183, 120.4372985, 100.8909747,\n",
    "                     98.86570856]\n",
    "\n",
    "# Set the significance level\n",
    "alpha = 0.05\n",
    "\n",
    "# Compare p-value with significance level\n",
    "if p_value < alpha:\n",
    "    print(\"Reject the null hypothesis.\")\n",
    "    print(\"There is sufficient evidence to suggest that the mean hardness of polished and unpolished stones is different.\")\n",
    "else:\n",
    "    print(\"Fail to reject the null hypothesis.\")\n",
    "    print(\"There is not enough evidence to suggest a difference in the mean hardness of polished and unpolished stones.\")\n"
   ]
  },
  {
   "cell_type": "code",
   "execution_count": null,
   "id": "0c0aa499",
   "metadata": {},
   "outputs": [],
   "source": []
  },
  {
   "cell_type": "code",
   "execution_count": 46,
   "id": "18a587db",
   "metadata": {},
   "outputs": [],
   "source": [
    " # 6.Aquarius health club, one of the largest and most popular cross-fit gyms in the country has been advertising a rigorous program for body conditioning. The program is considered successful if the candidate is able to do more than 5 push-ups, as compared to when he/she enrolled in the program. Using the sample data provided can you conclude whether the program is successful? (Consider the level of Significance as 5%) Note that this is a problem of the paired-t-test. Since the claim is that the training will make a difference of more than 5, the null and alternative hypotheses must be formed accordingly."
   ]
  },
  {
   "cell_type": "code",
   "execution_count": 47,
   "id": "4c7d909b",
   "metadata": {},
   "outputs": [],
   "source": [
    "df = pd.read_csv(r\"C:\\Users\\ragha\\OneDrive\\Desktop\\Great Learning\\GL Practice files\\Advance stats\\Aquarius_gym.csv\")"
   ]
  },
  {
   "cell_type": "code",
   "execution_count": 48,
   "id": "36e7bf10",
   "metadata": {},
   "outputs": [
    {
     "data": {
      "text/html": [
       "<div>\n",
       "<style scoped>\n",
       "    .dataframe tbody tr th:only-of-type {\n",
       "        vertical-align: middle;\n",
       "    }\n",
       "\n",
       "    .dataframe tbody tr th {\n",
       "        vertical-align: top;\n",
       "    }\n",
       "\n",
       "    .dataframe thead th {\n",
       "        text-align: right;\n",
       "    }\n",
       "</style>\n",
       "<table border=\"1\" class=\"dataframe\">\n",
       "  <thead>\n",
       "    <tr style=\"text-align: right;\">\n",
       "      <th></th>\n",
       "      <th>Sr no.</th>\n",
       "      <th>Before</th>\n",
       "      <th>After</th>\n",
       "    </tr>\n",
       "  </thead>\n",
       "  <tbody>\n",
       "    <tr>\n",
       "      <th>0</th>\n",
       "      <td>1</td>\n",
       "      <td>39</td>\n",
       "      <td>44</td>\n",
       "    </tr>\n",
       "    <tr>\n",
       "      <th>1</th>\n",
       "      <td>2</td>\n",
       "      <td>25</td>\n",
       "      <td>25</td>\n",
       "    </tr>\n",
       "    <tr>\n",
       "      <th>2</th>\n",
       "      <td>3</td>\n",
       "      <td>39</td>\n",
       "      <td>39</td>\n",
       "    </tr>\n",
       "    <tr>\n",
       "      <th>3</th>\n",
       "      <td>4</td>\n",
       "      <td>6</td>\n",
       "      <td>13</td>\n",
       "    </tr>\n",
       "    <tr>\n",
       "      <th>4</th>\n",
       "      <td>5</td>\n",
       "      <td>40</td>\n",
       "      <td>44</td>\n",
       "    </tr>\n",
       "  </tbody>\n",
       "</table>\n",
       "</div>"
      ],
      "text/plain": [
       "   Sr no.  Before  After\n",
       "0       1      39     44\n",
       "1       2      25     25\n",
       "2       3      39     39\n",
       "3       4       6     13\n",
       "4       5      40     44"
      ]
     },
     "execution_count": 48,
     "metadata": {},
     "output_type": "execute_result"
    }
   ],
   "source": [
    "df.head()"
   ]
  },
  {
   "cell_type": "code",
   "execution_count": null,
   "id": "0e2ffafd",
   "metadata": {},
   "outputs": [],
   "source": []
  },
  {
   "cell_type": "code",
   "execution_count": 49,
   "id": "a1b946f9",
   "metadata": {},
   "outputs": [
    {
     "name": "stdout",
     "output_type": "stream",
     "text": [
      "Fail to reject the null hypothesis. The program is not successful.\n"
     ]
    }
   ],
   "source": [
    "import math\n",
    "\n",
    "# Define the sample statistics\n",
    "n = 12\n",
    "sum_d = 60\n",
    "sum_d2 = 390\n",
    "X_d = sum_d / n\n",
    "S_d = math.sqrt((sum_d2 - (sum_d**2 / n)) / (n - 1))\n",
    "\n",
    "# Define the null hypothesis mean difference\n",
    "null_mean_diff = 5\n",
    "\n",
    "# Calculate the test statistic\n",
    "t_statistic = (X_d - null_mean_diff) / (S_d / math.sqrt(n))\n",
    "\n",
    "# Define the significance level\n",
    "alpha = 0.05\n",
    "\n",
    "# Define the degrees of freedom\n",
    "df = n - 1\n",
    "\n",
    "# Calculate the critical value\n",
    "critical_value = stats.t.ppf(1 - alpha, df)\n",
    "\n",
    "# Perform the hypothesis test\n",
    "if t_statistic > critical_value:\n",
    "    print(\"Reject the null hypothesis. The program is successful.\")\n",
    "else:\n",
    "    print(\"Fail to reject the null hypothesis. The program is not successful.\")"
   ]
  },
  {
   "cell_type": "code",
   "execution_count": null,
   "id": "eafc7f3a",
   "metadata": {},
   "outputs": [],
   "source": []
  },
  {
   "cell_type": "code",
   "execution_count": 50,
   "id": "6b88436f",
   "metadata": {},
   "outputs": [
    {
     "name": "stdout",
     "output_type": "stream",
     "text": [
      "The program is not successful.\n"
     ]
    }
   ],
   "source": [
    "# Define the sample data\n",
    "Before = [39, 25, 39, 6, 40, 27, 30, 22, 21, 38, 32, 31, 16, 21, 32, 29, 36, 22, 34, 33,\n",
    "          35, 32, 20, 37, 31, 23, 39, 32, 36, 14, 28, 17, 11, 28, 28, 15, 21, 33, 13,\n",
    "          32, 29, 24, 22, 10, 24, 32, 39, 38, 22, 16, 37, 31, 31, 12, 35, 15, 32, 17,\n",
    "          39, 30, 44, 3, 20, 26, 47, 26, 25, 17, 20, 29, 29, 25, 38, 24, 23, 19, 28,\n",
    "          26, 23, 23, 27, 23, 36, 24, 32, 36, 37, 28, 30, 28, 10, 28, 35, 44, 25, 16,\n",
    "          19, 24, 14, 30]\n",
    "\n",
    "After = [44, 25, 39, 13, 44, 34, 34, 29, 30, 46, 37, 35, 24, 28, 39, 39, 44, 26, 40, 35,\n",
    "         42, 41, 26, 38, 32, 24, 45, 39, 37, 21, 36, 24, 15, 37, 35, 21, 26, 40, 17, 35,\n",
    "         37, 31, 31, 19, 26, 41, 42, 40, 29, 23, 44, 41, 36, 12, 39, 18, 36, 22, 43, 36,\n",
    "         50, 10, 22, 35, 51, 31, 34, 26, 23, 31, 33, 32, 46, 33, 32, 20, 29, 26, 30, 25,\n",
    "         34, 33, 37, 31, 39, 37, 41, 34, 38, 37, 19, 31, 36, 51, 33, 18, 28, 28, 24, 39]\n",
    "\n",
    "# Calculate the differences\n",
    "differences = np.array(After) - np.array(Before)\n",
    "\n",
    "# Perform the paired t-test\n",
    "t_statistic, p_value = stats.ttest_1samp(differences, 5)\n",
    "\n",
    "# Define the significance level (alpha)\n",
    "alpha = 0.05\n",
    "\n",
    "# Compare the p-value with the significance level\n",
    "if p_value < alpha and t_statistic > 0:\n",
    "    print(\"The program is successful.\")\n",
    "else:\n",
    "    print(\"The program is not successful.\")"
   ]
  },
  {
   "cell_type": "code",
   "execution_count": null,
   "id": "ce84afa6",
   "metadata": {},
   "outputs": [],
   "source": []
  },
  {
   "cell_type": "code",
   "execution_count": null,
   "id": "aa5e09ae",
   "metadata": {},
   "outputs": [],
   "source": []
  }
 ],
 "metadata": {
  "kernelspec": {
   "display_name": "Python 3 (ipykernel)",
   "language": "python",
   "name": "python3"
  },
  "language_info": {
   "codemirror_mode": {
    "name": "ipython",
    "version": 3
   },
   "file_extension": ".py",
   "mimetype": "text/x-python",
   "name": "python",
   "nbconvert_exporter": "python",
   "pygments_lexer": "ipython3",
   "version": "3.10.9"
  }
 },
 "nbformat": 4,
 "nbformat_minor": 5
}
